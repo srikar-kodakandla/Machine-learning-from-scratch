{
 "cells": [
  {
   "cell_type": "markdown",
   "metadata": {
    "id": "IvLvmewlxLix"
   },
   "source": [
    "<font face='georgia'>\n",
    "    \n",
    "   <h4><strong>What does tf-idf mean?</strong></h4>\n",
    "\n",
    "   <p>    \n",
    "Tf-idf stands for <em>term frequency-inverse document frequency</em>, and the tf-idf weight is a weight often used in information retrieval and text mining. This weight is a statistical measure used to evaluate how important a word is to a document in a collection or corpus. The importance increases proportionally to the number of times a word appears in the document but is offset by the frequency of the word in the corpus. Variations of the tf-idf weighting scheme are often used by search engines as a central tool in scoring and ranking a document's relevance given a user query.\n",
    "</p>\n",
    "    \n",
    "   <p>\n",
    "One of the simplest ranking functions is computed by summing the tf-idf for each query term; many more sophisticated ranking functions are variants of this simple model.\n",
    "</p>\n",
    "    \n",
    "   <p>\n",
    "Tf-idf can be successfully used for stop-words filtering in various subject fields including text summarization and classification.\n",
    "</p>\n",
    "    \n",
    "</font>"
   ]
  },
  {
   "cell_type": "markdown",
   "metadata": {
    "id": "4XLaGFUMxLiy"
   },
   "source": [
    "<font face='georgia'>\n",
    "    <h4><strong>How to Compute:</strong></h4>\n",
    "\n",
    "Typically, the tf-idf weight is composed by two terms: the first computes the normalized Term Frequency (TF), aka. the number of times a word appears in a document, divided by the total number of words in that document; the second term is the Inverse Document Frequency (IDF), computed as the logarithm of the number of the documents in the corpus divided by the number of documents where the specific term appears.\n",
    "\n",
    " <ul>\n",
    "    <li>\n",
    "<strong>TF:</strong> Term Frequency, which measures how frequently a term occurs in a document. Since every document is different in length, it is possible that a term would appear much more times in long documents than shorter ones. Thus, the term frequency is often divided by the document length (aka. the total number of terms in the document) as a way of normalization: <br>\n",
    "\n",
    "$TF(t) = \\frac{\\text{Number of times term t appears in a document}}{\\text{Total number of terms in the document}}.$\n",
    "</li>\n",
    "<li>\n",
    "<strong>IDF:</strong> Inverse Document Frequency, which measures how important a term is. While computing TF, all terms are considered equally important. However it is known that certain terms, such as \"is\", \"of\", and \"that\", may appear a lot of times but have little importance. Thus we need to weigh down the frequent terms while scale up the rare ones, by computing the following: <br>\n",
    "\n",
    "$IDF(t) = \\log_{e}\\frac{\\text{Total  number of documents}} {\\text{Number of documents with term t in it}}.$\n",
    "for numerical stabiltiy we will be changing this formula little bit\n",
    "$IDF(t) = \\log_{e}\\frac{\\text{Total  number of documents}} {\\text{Number of documents with term t in it}+1}.$\n",
    "</li>\n",
    "</ul>\n",
    "\n",
    "<br>\n",
    "<h4><strong>Example</strong></h4>\n",
    "<p>\n",
    "\n",
    "Consider a document containing 100 words wherein the word cat appears 3 times. The term frequency (i.e., tf) for cat is then (3 / 100) = 0.03. Now, assume we have 10 million documents and the word cat appears in one thousand of these. Then, the inverse document frequency (i.e., idf) is calculated as log(10,000,000 / 1,000) = 4. Thus, the Tf-idf weight is the product of these quantities: 0.03 * 4 = 0.12.\n",
    "</p>\n",
    "</font>"
   ]
  },
  {
   "cell_type": "markdown",
   "metadata": {
    "id": "OnV82tg1xLi0"
   },
   "source": [
    "### Corpus"
   ]
  },
  {
   "cell_type": "code",
   "execution_count": 1,
   "metadata": {
    "id": "bUsYm9wjxLi1"
   },
   "outputs": [],
   "source": [
    "## SkLearn # Collection of string documents\n",
    "\n",
    "corpus = [\n",
    "     'this is the first document',\n",
    "     'this document is the second document',\n",
    "     'and this is the third one',\n",
    "     'is this the first document',\n",
    "]"
   ]
  },
  {
   "cell_type": "markdown",
   "metadata": {
    "id": "qfIwx5LzxLjI"
   },
   "source": [
    "### Custom implementation of TFIDF Vectorizer with out using Sklearn "
   ]
  },
  {
   "cell_type": "code",
   "execution_count": 8,
   "metadata": {
    "id": "HjuCcJwXxLjJ"
   },
   "outputs": [],
   "source": [
    "from collections import Counter\n",
    "from tqdm import tqdm\n",
    "from scipy.sparse import csr_matrix\n",
    "import math\n",
    "import operator\n",
    "from sklearn.preprocessing import normalize\n",
    "import numpy"
   ]
  },
  {
   "cell_type": "code",
   "execution_count": 9,
   "metadata": {
    "id": "2sDlYt9oVt6y"
   },
   "outputs": [],
   "source": [
    "import warnings\n",
    "warnings.filterwarnings(\"ignore\")\n",
    "import pandas as pd\n",
    "from tqdm import tqdm\n",
    "import os\n",
    "import math "
   ]
  },
  {
   "cell_type": "code",
   "execution_count": 10,
   "metadata": {
    "id": "KRwOfOKUVt_n"
   },
   "outputs": [],
   "source": [
    "from tqdm import tqdm \n",
    "\n",
    "# it accepts only list of sentances\n",
    "def fit(dataset):    \n",
    "    unique_words = set() # at first we will initialize an empty set\n",
    "    # check if its list type or not\n",
    "    if isinstance(dataset, (list,)):\n",
    "        for row in dataset: # for each review in the dataset\n",
    "            for word in row.split(\" \"): # for each word in the review. #split method converts a string into list of words\n",
    "                if len(word) < 2:\n",
    "                    continue\n",
    "                unique_words.add(word)\n",
    "        unique_words = sorted(list(unique_words))\n",
    "        idf_word=dict()\n",
    "        #once=set()\n",
    "        len_dataset=0\n",
    "        for row in dataset:\n",
    "          len_dataset+=1\n",
    "          once=set()\n",
    "          for word in row.split(\" \"):\n",
    "            if word not in once:\n",
    "              once.add(word)\n",
    "              try:\n",
    "                idf_word[word]+=1\n",
    "              except :\n",
    "                idf_word[word]=1\n",
    "        vocab = {j:i for i,j in enumerate(unique_words)}\n",
    "        idf=dict()\n",
    "        for row in dataset:\n",
    "          for word in row.split(\" \"):\n",
    "            idf[word]=1+(math.log((1+len_dataset)/(1+idf_word[word])))\n",
    "        return vocab,idf\n",
    "    else:\n",
    "        print(\"you need to pass list of sentance\")"
   ]
  },
  {
   "cell_type": "code",
   "execution_count": 11,
   "metadata": {
    "colab": {
     "base_uri": "https://localhost:8080/"
    },
    "id": "ATOjiteSVuDE",
    "outputId": "e8f252fa-46f8-4b1a-ba46-9fd235ec5f05"
   },
   "outputs": [
    {
     "name": "stdout",
     "output_type": "stream",
     "text": [
      "The vocab is :{'and': 0, 'document': 1, 'first': 2, 'is': 3, 'one': 4, 'second': 5, 'the': 6, 'third': 7, 'this': 8}\n"
     ]
    }
   ],
   "source": [
    "vocab,idf = fit(corpus)\n",
    "print(\"The vocab is :\", end ='')\n",
    "print(vocab)"
   ]
  },
  {
   "cell_type": "code",
   "execution_count": 12,
   "metadata": {
    "colab": {
     "base_uri": "https://localhost:8080/"
    },
    "id": "nPGoFYk5Ng5l",
    "outputId": "cf45cee8-a5ce-4279-b76f-4d2091957231"
   },
   "outputs": [
    {
     "data": {
      "text/plain": [
       "dict_keys(['and', 'document', 'first', 'is', 'one', 'second', 'the', 'third', 'this'])"
      ]
     },
     "execution_count": 12,
     "metadata": {},
     "output_type": "execute_result"
    }
   ],
   "source": [
    "#feature names \n",
    "vocab.keys()"
   ]
  },
  {
   "cell_type": "code",
   "execution_count": 13,
   "metadata": {
    "colab": {
     "base_uri": "https://localhost:8080/"
    },
    "id": "niYAZfJOVuLX",
    "outputId": "0eeb0657-e6db-4020-a02c-f4b91c8b5b01"
   },
   "outputs": [
    {
     "name": "stdout",
     "output_type": "stream",
     "text": [
      "IDF of the given word : {'this': 1.0, 'is': 1.0, 'the': 1.0, 'first': 1.5108256237659907, 'document': 1.2231435513142097, 'second': 1.916290731874155, 'and': 1.916290731874155, 'third': 1.916290731874155, 'one': 1.916290731874155}\n"
     ]
    }
   ],
   "source": [
    "print('IDF of the given word : ',end='')\n",
    "print(idf)"
   ]
  },
  {
   "cell_type": "code",
   "execution_count": 14,
   "metadata": {
    "id": "wseNw_6FVuVS"
   },
   "outputs": [],
   "source": [
    "# https://stackoverflow.com/questions/9919604/efficiently-calculate-word-frequency-in-a-string\n",
    "# https://docs.scipy.org/doc/scipy-0.19.0/reference/generated/scipy.sparse.csr_matrix.html\n",
    "\n",
    "def transform(dataset,vocab,idf):\n",
    "    rows = []\n",
    "    columns = []\n",
    "    values = []\n",
    "    if isinstance(dataset, (list,)):\n",
    "        for idx, row in enumerate(tqdm(dataset)): # for each document in the dataset\n",
    "            # it will return a dict type object where key is the word and values is its frequency, {word:frequency}\n",
    "            word_freq = dict(Counter(row.split()))\n",
    "            # for every unique word in the document\n",
    "            for word, freq in word_freq.items():  # for each unique word in the review.                \n",
    "                if len(word) < 2:\n",
    "                    continue\n",
    "                # we will check if its there in the vocabulary that we build in fit() function\n",
    "                # dict.get() function will return the values, if the key doesn't exits it will return -1\n",
    "                col_index = vocab.get(word, -1) # retreving the dimension number of a word\n",
    "                # if the word exists\n",
    "                if col_index !=-1:\n",
    "                    # we are storing the index of the document\n",
    "                    rows.append(idx)\n",
    "                    # we are storing the dimensions of the word\n",
    "                    columns.append(col_index)\n",
    "                    # we are storing the frequency of the word\n",
    "                    tf=(freq/len(row.split()))\n",
    "                    #idf=1+math.log((1+len_dataset)/(1+idf_word[word]))\n",
    "                    values.append(tf*idf[word])\n",
    "        return  csr_matrix((values, (rows,columns)), shape=(len(dataset),len(vocab)))\n",
    "    else:\n",
    "        print(\"you need to pass list of strings\")"
   ]
  },
  {
   "cell_type": "code",
   "execution_count": 15,
   "metadata": {
    "colab": {
     "base_uri": "https://localhost:8080/"
    },
    "id": "LVZdPrYKVuYs",
    "outputId": "bdd5073d-24e9-49a4-f65e-98afac4d40f4"
   },
   "outputs": [
    {
     "name": "stderr",
     "output_type": "stream",
     "text": [
      "100%|██████████| 4/4 [00:00<00:00, 11155.06it/s]\n"
     ]
    }
   ],
   "source": [
    "strings = [\"the method of lagrange multipliers is the economists workhorse for solving optimization problems\",\n",
    "           \"the technique is a centerpiece of economic theory but unfortunately its usually taught poorly\"]\n",
    "vocab,idf = fit(corpus)\n",
    "a=transform(corpus, vocab,idf)"
   ]
  },
  {
   "cell_type": "code",
   "execution_count": 16,
   "metadata": {
    "colab": {
     "base_uri": "https://localhost:8080/"
    },
    "id": "dhY2pIsGOM3_",
    "outputId": "daffa624-d5ee-4507-fdef-68003bde3446"
   },
   "outputs": [
    {
     "data": {
      "text/plain": [
       "(4, 9)"
      ]
     },
     "execution_count": 16,
     "metadata": {},
     "output_type": "execute_result"
    }
   ],
   "source": [
    "#shape of the output \n",
    "a.shape"
   ]
  },
  {
   "cell_type": "code",
   "execution_count": 17,
   "metadata": {
    "colab": {
     "base_uri": "https://localhost:8080/"
    },
    "id": "aKZtlGPtOPMg",
    "outputId": "d4e9883f-ba79-432a-ce43-e382746525a5"
   },
   "outputs": [
    {
     "name": "stdout",
     "output_type": "stream",
     "text": [
      "  (0, 1)\t0.24462871026284194\n",
      "  (0, 2)\t0.3021651247531982\n",
      "  (0, 3)\t0.2\n",
      "  (0, 6)\t0.2\n",
      "  (0, 8)\t0.2\n",
      "  (1, 1)\t0.40771451710473655\n",
      "  (1, 3)\t0.16666666666666666\n",
      "  (1, 5)\t0.3193817886456925\n",
      "  (1, 6)\t0.16666666666666666\n",
      "  (1, 8)\t0.16666666666666666\n",
      "  (2, 0)\t0.3193817886456925\n",
      "  (2, 3)\t0.16666666666666666\n",
      "  (2, 4)\t0.3193817886456925\n",
      "  (2, 6)\t0.16666666666666666\n",
      "  (2, 7)\t0.3193817886456925\n",
      "  (2, 8)\t0.16666666666666666\n",
      "  (3, 1)\t0.24462871026284194\n",
      "  (3, 2)\t0.3021651247531982\n",
      "  (3, 3)\t0.2\n",
      "  (3, 6)\t0.2\n",
      "  (3, 8)\t0.2\n"
     ]
    }
   ],
   "source": [
    "#sparse data \n",
    "print(a)"
   ]
  },
  {
   "cell_type": "code",
   "execution_count": 18,
   "metadata": {
    "colab": {
     "base_uri": "https://localhost:8080/"
    },
    "id": "1_BvfI9JOESQ",
    "outputId": "fefb06d5-8d18-4949-a618-249feabb1ee7"
   },
   "outputs": [
    {
     "data": {
      "text/plain": [
       "array([[0.        , 0.24462871, 0.30216512, 0.2       , 0.        ,\n",
       "        0.        , 0.2       , 0.        , 0.2       ],\n",
       "       [0.        , 0.40771452, 0.        , 0.16666667, 0.        ,\n",
       "        0.31938179, 0.16666667, 0.        , 0.16666667],\n",
       "       [0.31938179, 0.        , 0.        , 0.16666667, 0.31938179,\n",
       "        0.        , 0.16666667, 0.31938179, 0.16666667],\n",
       "       [0.        , 0.24462871, 0.30216512, 0.2       , 0.        ,\n",
       "        0.        , 0.2       , 0.        , 0.2       ]])"
      ]
     },
     "execution_count": 18,
     "metadata": {},
     "output_type": "execute_result"
    }
   ],
   "source": [
    "a.toarray()"
   ]
  },
  {
   "cell_type": "markdown",
   "metadata": {},
   "source": [
    "### TFIDF Vector"
   ]
  },
  {
   "cell_type": "code",
   "execution_count": 19,
   "metadata": {
    "colab": {
     "base_uri": "https://localhost:8080/"
    },
    "id": "FNq2TX2UfXCV",
    "outputId": "224cd6f7-32fd-4982-ecc4-f1c758658466"
   },
   "outputs": [
    {
     "data": {
      "text/plain": [
       "array([[0.        , 0.46979139, 0.58028582, 0.38408524, 0.        ,\n",
       "        0.        , 0.38408524, 0.        , 0.38408524],\n",
       "       [0.        , 0.6876236 , 0.        , 0.28108867, 0.        ,\n",
       "        0.53864762, 0.28108867, 0.        , 0.28108867],\n",
       "       [0.51184851, 0.        , 0.        , 0.26710379, 0.51184851,\n",
       "        0.        , 0.26710379, 0.51184851, 0.26710379],\n",
       "       [0.        , 0.46979139, 0.58028582, 0.38408524, 0.        ,\n",
       "        0.        , 0.38408524, 0.        , 0.38408524]])"
      ]
     },
     "execution_count": 19,
     "metadata": {},
     "output_type": "execute_result"
    }
   ],
   "source": [
    "#normalized matrix \n",
    "normalize(a.toarray(),norm='l2') #TFIDF Vectors"
   ]
  },
  {
   "cell_type": "markdown",
   "metadata": {
    "id": "eLwmFZfKxLi4"
   },
   "source": [
    "### Comparing Custom implemented TFIDF Vectorizer with SkLearn Implementation"
   ]
  },
  {
   "cell_type": "code",
   "execution_count": 2,
   "metadata": {
    "id": "Np4dfQOkxLi4"
   },
   "outputs": [],
   "source": [
    "from sklearn.feature_extraction.text import TfidfVectorizer\n",
    "vectorizer = TfidfVectorizer()\n",
    "vectorizer.fit(corpus)\n",
    "skl_output = vectorizer.transform(corpus)"
   ]
  },
  {
   "cell_type": "code",
   "execution_count": 3,
   "metadata": {
    "colab": {
     "base_uri": "https://localhost:8080/"
    },
    "id": "-7Om8YpYxLi6",
    "outputId": "30bffa1e-4c3d-4f48-d60a-46c77b3a1cfa"
   },
   "outputs": [
    {
     "name": "stdout",
     "output_type": "stream",
     "text": [
      "['and', 'document', 'first', 'is', 'one', 'second', 'the', 'third', 'this']\n"
     ]
    }
   ],
   "source": [
    "# sklearn feature names, they are sorted in alphabetic order by default.\n",
    "\n",
    "print(vectorizer.get_feature_names())"
   ]
  },
  {
   "cell_type": "code",
   "execution_count": 4,
   "metadata": {
    "colab": {
     "base_uri": "https://localhost:8080/"
    },
    "id": "dTKplK96xLi-",
    "outputId": "3508998e-7455-49cc-c320-f3eb1f11fa05"
   },
   "outputs": [
    {
     "name": "stdout",
     "output_type": "stream",
     "text": [
      "[1.91629073 1.22314355 1.51082562 1.         1.91629073 1.91629073\n",
      " 1.         1.91629073 1.        ]\n"
     ]
    }
   ],
   "source": [
    "# Here we will print the sklearn tfidf vectorizer idf values after applying the fit method\n",
    "# After using the fit function on the corpus the vocab has 9 words in it, and each has its idf value.\n",
    "\n",
    "print(vectorizer.idf_)"
   ]
  },
  {
   "cell_type": "code",
   "execution_count": 5,
   "metadata": {
    "colab": {
     "base_uri": "https://localhost:8080/"
    },
    "id": "-CTiWHygxLjA",
    "outputId": "b837aef0-9dc5-4c53-fb17-5f7d2edffaa8"
   },
   "outputs": [
    {
     "data": {
      "text/plain": [
       "(4, 9)"
      ]
     },
     "execution_count": 5,
     "metadata": {},
     "output_type": "execute_result"
    }
   ],
   "source": [
    "# shape of sklearn tfidf vectorizer output after applying transform method.\n",
    "\n",
    "skl_output.shape"
   ]
  },
  {
   "cell_type": "code",
   "execution_count": 6,
   "metadata": {
    "colab": {
     "base_uri": "https://localhost:8080/"
    },
    "id": "bDKEpbA-xLjD",
    "outputId": "2fbeff51-4c7c-4c22-aa93-c2d3aa3e1877"
   },
   "outputs": [
    {
     "name": "stdout",
     "output_type": "stream",
     "text": [
      "  (0, 8)\t0.38408524091481483\n",
      "  (0, 6)\t0.38408524091481483\n",
      "  (0, 3)\t0.38408524091481483\n",
      "  (0, 2)\t0.5802858236844359\n",
      "  (0, 1)\t0.46979138557992045\n"
     ]
    }
   ],
   "source": [
    "# sklearn tfidf values for first line of the above corpus.\n",
    "# Here the output is a sparse matrix\n",
    "\n",
    "print(skl_output[0])"
   ]
  },
  {
   "cell_type": "code",
   "execution_count": 7,
   "metadata": {
    "colab": {
     "base_uri": "https://localhost:8080/"
    },
    "id": "3QWo34hexLjF",
    "outputId": "d3051fbf-7be2-4dd8-f6a2-2df12b95119e"
   },
   "outputs": [
    {
     "name": "stdout",
     "output_type": "stream",
     "text": [
      "[[0.         0.46979139 0.58028582 0.38408524 0.         0.\n",
      "  0.38408524 0.         0.38408524]]\n"
     ]
    }
   ],
   "source": [
    "# sklearn tfidf values for first line of the above corpus.\n",
    "# To understand the output better, here we are converting the sparse output matrix to dense matrix and printing it.\n",
    "# Notice that this output is normalized using L2 normalization. sklearn does this by default.\n",
    "\n",
    "print(skl_output[0].toarray())"
   ]
  },
  {
   "cell_type": "code",
   "execution_count": 19,
   "metadata": {
    "id": "b3T-wXWlVutW"
   },
   "outputs": [],
   "source": []
  },
  {
   "cell_type": "markdown",
   "metadata": {
    "id": "51j_OtqAxLjL"
   },
   "source": [
    "<font face='georgia'>\n",
    "    <h4><strong>2. Implement max features functionality:</strong></h4>\n",
    "\n",
    "<ul>\n",
    "    <li> As a part of this task you have to modify your fit and transform functions so that your vocab will contain only 50 terms with top idf scores.</li>\n",
    "    <br>\n",
    "    <li>This task is similar to your previous task, just that here your vocabulary is limited to only top 50 features names based on their idf values. Basically your output will have exactly 50 columns and the number of rows will depend on the number of documents you have in your corpus.</li>\n",
    "    <br>\n",
    "    <li>Here you will be give a pickle file, with file name <strong>cleaned_strings</strong>. You would have to load the corpus from this file and use it as input to your tfidf vectorizer.</li>\n",
    "    <br>\n",
    "    <li>Steps to approach this task:\n",
    "    <ol>\n",
    "        <li> You would have to write both fit and transform methods for your custom implementation of tfidf vectorizer, just like in the previous task. Additionally, here you have to limit the number of features generated to 50 as described above.</li>\n",
    "        <li> Now sort your vocab based in descending order of idf values and print out the words in the sorted voacb after you fit your data. Here you should be getting only 50 terms in your vocab. And make sure to print idf values for each term in your vocab. </li>\n",
    "        <li> Make sure the output of your implementation is a sparse matrix. Before generating the final output, you need to normalize your sparse matrix using L2 normalization. You can refer to this link https://scikit-learn.org/stable/modules/generated/sklearn.preprocessing.normalize.html </li>\n",
    "        <li> Now check the output of a single document in your collection of documents,  you can convert the sparse matrix related only to that document into dense matrix and print it. And this dense matrix should contain 1 row and 50 columns. </li>\n",
    "        </ol>\n",
    "    </li>\n",
    "    <br>\n",
    "   </ul>"
   ]
  },
  {
   "cell_type": "markdown",
   "metadata": {},
   "source": [
    "### Implement max features functionality"
   ]
  },
  {
   "cell_type": "code",
   "execution_count": 20,
   "metadata": {
    "colab": {
     "base_uri": "https://localhost:8080/"
    },
    "id": "NHxPLlwNxLjL",
    "outputId": "ca01bb83-e682-4764-fcd2-d20c6bd7b3b8"
   },
   "outputs": [
    {
     "name": "stdout",
     "output_type": "stream",
     "text": [
      "Number of documents in corpus =  746\n"
     ]
    }
   ],
   "source": [
    "\n",
    "\n",
    "import pickle\n",
    "with open('/content/drive/MyDrive/aaic/cleaned_strings', 'rb') as f:\n",
    "    corpus = pickle.load(f)\n",
    "    \n",
    "print(\"Number of documents in corpus = \",len(corpus))"
   ]
  },
  {
   "cell_type": "code",
   "execution_count": 22,
   "metadata": {
    "id": "6CZaTmWwAVwj"
   },
   "outputs": [],
   "source": [
    "from collections import OrderedDict"
   ]
  },
  {
   "cell_type": "code",
   "execution_count": 23,
   "metadata": {
    "id": "1_DJnnR3xLjR"
   },
   "outputs": [],
   "source": [
    "from tqdm import tqdm\n",
    "# it accepts only list of sentances\n",
    "def fit(dataset):    \n",
    "    unique_words = set() # at first we will initialize an empty set\n",
    "    # check if its list type or not\n",
    "    if isinstance(dataset, (list,)):\n",
    "        for row in dataset: # for each review in the dataset\n",
    "            for word in row.split(\" \"): # for each word in the review. #split method converts a string into list of words\n",
    "                if len(word) < 2:\n",
    "                    continue\n",
    "                unique_words.add(word)\n",
    "        unique_words = sorted(list(unique_words))\n",
    "        idf_word=dict()\n",
    "        #once=set()\n",
    "        len_dataset=0\n",
    "        for row in dataset:\n",
    "          len_dataset+=1\n",
    "          once=set()\n",
    "          for word in row.split(\" \"):\n",
    "            if word not in once:\n",
    "              once.add(word)\n",
    "              try:\n",
    "                idf_word[word]+=1\n",
    "              except :\n",
    "                idf_word[word]=1\n",
    "        vocab = {j:i for i,j in enumerate(unique_words)}\n",
    "        idf=dict()\n",
    "        for row in dataset:\n",
    "          for word in row.split(\" \"):\n",
    "            idf[word]=1+(math.log((1+len_dataset)/(1+idf_word[word])))  \n",
    "        data=OrderedDict(sorted(idf.items(),key=lambda t:t[1],reverse=True))\n",
    "        #getting top fifty vocabulary words \n",
    "        key=list(data.keys())[:50]\n",
    "        #sorting values in ordered dictionary \n",
    "        for i in range(len(data.keys())):\n",
    "          if i>49:\n",
    "            try:\n",
    "              data[key[i]]=0\n",
    "            except:\n",
    "              pass  \n",
    "        vocab = {j:i for i,j in enumerate(key)}       \n",
    "        return vocab,data\n",
    "    else:\n",
    "        print(\"you need to pass list of sentance\")"
   ]
  },
  {
   "cell_type": "code",
   "execution_count": 23,
   "metadata": {
    "id": "WeXyY6eIDVBV"
   },
   "outputs": [],
   "source": []
  },
  {
   "cell_type": "code",
   "execution_count": 24,
   "metadata": {
    "colab": {
     "base_uri": "https://localhost:8080/"
    },
    "id": "RwWJQFPc2qWW",
    "outputId": "4211778f-1685-4b24-b559-367daab10145"
   },
   "outputs": [
    {
     "name": "stdout",
     "output_type": "stream",
     "text": [
      "The vocab is :{'aimless': 0, 'distressed': 1, 'drifting': 2, 'nearly': 3, 'attempting': 4, 'artiness': 5, 'existent': 6, 'gerardo': 7, 'emptiness': 8, 'effort': 9, 'messages': 10, 'buffet': 11, 'science': 12, 'teacher': 13, 'baby': 14, 'owls': 15, 'florida': 16, 'muppets': 17, 'person': 18, 'overdue': 19, 'screenplay': 20, 'post': 21, 'practically': 22, 'structure': 23, 'tightly': 24, 'constructed': 25, 'vitally': 26, 'occurs': 27, 'content': 28, 'fill': 29, 'dozen': 30, 'highest': 31, 'superlative': 32, 'require': 33, 'puzzle': 34, 'solving': 35, 'fit': 36, 'pulls': 37, 'punches': 38, 'graphics': 39, 'number': 40, 'th': 41, 'insane': 42, 'massive': 43, 'unlockable': 44, 'properly': 45, 'aye': 46, 'rocks': 47, 'doomed': 48, 'conception': 49}\n"
     ]
    }
   ],
   "source": [
    "vocab,idf = fit(corpus)\n",
    "print(\"The vocab is :\", end ='')\n",
    "print(vocab)"
   ]
  },
  {
   "cell_type": "code",
   "execution_count": 25,
   "metadata": {
    "colab": {
     "base_uri": "https://localhost:8080/"
    },
    "id": "1JIpjiZuO22P",
    "outputId": "1908ef9c-ccbf-47d8-c66e-b1f70929c260"
   },
   "outputs": [
    {
     "name": "stdout",
     "output_type": "stream",
     "text": [
      "the features are  :  ['aimless', 'distressed', 'drifting', 'nearly', 'attempting', 'artiness', 'existent', 'gerardo', 'emptiness', 'effort', 'messages', 'buffet', 'science', 'teacher', 'baby', 'owls', 'florida', 'muppets', 'person', 'overdue', 'screenplay', 'post', 'practically', 'structure', 'tightly', 'constructed', 'vitally', 'occurs', 'content', 'fill', 'dozen', 'highest', 'superlative', 'require', 'puzzle', 'solving', 'fit', 'pulls', 'punches', 'graphics', 'number', 'th', 'insane', 'massive', 'unlockable', 'properly', 'aye', 'rocks', 'doomed', 'conception']\n"
     ]
    }
   ],
   "source": [
    "#features\n",
    "print(\"the features are  : \", end =' ')\n",
    "print(list(vocab.keys()))"
   ]
  },
  {
   "cell_type": "code",
   "execution_count": 26,
   "metadata": {
    "colab": {
     "base_uri": "https://localhost:8080/"
    },
    "id": "tWzPbqnwMbTE",
    "outputId": "48dbb2bb-d8d5-4e97-ffa8-eeffb9301323"
   },
   "outputs": [
    {
     "name": "stdout",
     "output_type": "stream",
     "text": [
      "IDF values of the given word : OrderedDict([('aimless', 6.922918004572872), ('distressed', 6.922918004572872), ('drifting', 6.922918004572872), ('nearly', 6.922918004572872), ('attempting', 6.922918004572872), ('artiness', 6.922918004572872), ('existent', 6.922918004572872), ('gerardo', 6.922918004572872), ('emptiness', 6.922918004572872), ('effort', 6.922918004572872), ('messages', 6.922918004572872), ('buffet', 6.922918004572872), ('science', 6.922918004572872), ('teacher', 6.922918004572872), ('baby', 6.922918004572872), ('owls', 6.922918004572872), ('florida', 6.922918004572872), ('muppets', 6.922918004572872), ('person', 6.922918004572872), ('overdue', 6.922918004572872), ('screenplay', 6.922918004572872), ('post', 6.922918004572872), ('practically', 6.922918004572872), ('structure', 6.922918004572872), ('tightly', 6.922918004572872), ('constructed', 6.922918004572872), ('vitally', 6.922918004572872), ('occurs', 6.922918004572872), ('content', 6.922918004572872), ('fill', 6.922918004572872), ('dozen', 6.922918004572872), ('highest', 6.922918004572872), ('superlative', 6.922918004572872), ('require', 6.922918004572872), ('puzzle', 6.922918004572872), ('solving', 6.922918004572872), ('fit', 6.922918004572872), ('pulls', 6.922918004572872), ('punches', 6.922918004572872), ('graphics', 6.922918004572872), ('number', 6.922918004572872), ('th', 6.922918004572872), ('insane', 6.922918004572872), ('massive', 6.922918004572872), ('unlockable', 6.922918004572872), ('properly', 6.922918004572872), ('aye', 6.922918004572872), ('rocks', 6.922918004572872), ('doomed', 6.922918004572872), ('conception', 6.922918004572872), ('minor', 6.922918004572872), ('changing', 6.922918004572872), ('tone', 6.922918004572872), ('pg', 6.922918004572872), ('confirm', 6.922918004572872), ('generic', 6.922918004572872), ('managed', 6.922918004572872), ('exaggerating', 6.922918004572872), ('trailer', 6.922918004572872), ('carrell', 6.922918004572872), ('save', 6.922918004572872), ('co', 6.922918004572872), ('fare', 6.922918004572872), ('freeman', 6.922918004572872), ('helms', 6.922918004572872), ('animals', 6.922918004572872), ('integration', 6.922918004572872), ('obvious', 6.922918004572872), ('blue', 6.922918004572872), ('green', 6.922918004572872), ('translate', 6.922918004572872), ('succeeds', 6.922918004572872), ('meagre', 6.922918004572872), ('choice', 6.922918004572872), ('cancan', 6.922918004572872), ('boasts', 6.922918004572872), ('cutest', 6.922918004572872), ('leading', 6.922918004572872), ('ladies', 6.922918004572872), ('heels', 6.922918004572872), ('insipid', 6.922918004572872), ('waiting', 6.922918004572872), ('efforts', 6.922918004572872), ('heche', 6.922918004572872), ('sam', 6.922918004572872), ('shepard', 6.922918004572872), ('gung', 6.922918004572872), ('ho', 6.922918004572872), ('marine', 6.922918004572872), ('sobering', 6.922918004572872), ('sat', 6.922918004572872), ('riveted', 6.922918004572872), ('resounding', 6.922918004572872), ('hanks', 6.922918004572872), ('fingernails', 6.922918004572872), ('chalkboard', 6.922918004572872), ('unnecessary', 6.922918004572872), ('train', 6.922918004572872), ('roller', 6.922918004572872), ('coaster', 6.922918004572872), ('grates', 6.922918004572872), ('nerves', 6.922918004572872), ('improved', 6.922918004572872), ('improvisation', 6.922918004572872), ('worry', 6.922918004572872), ('honestly', 6.922918004572872), ('surroundings', 6.922918004572872), ('crackles', 6.922918004572872), ('youthful', 6.922918004572872), ('concentrate', 6.922918004572872), ('meanders', 6.922918004572872), ('builders', 6.922918004572872), ('cross', 6.922918004572872), ('cliche', 6.922918004572872), ('choices', 6.922918004572872), ('predict', 6.922918004572872), ('verbatim', 6.922918004572872), ('selections', 6.922918004572872), ('gross', 6.922918004572872), ('chills', 6.922918004572872), ('nevsky', 6.922918004572872), ('whoever', 6.922918004572872), ('lived', 6.922918004572872), ('planned', 6.922918004572872), ('dodge', 6.922918004572872), ('stratus', 6.922918004572872), ('help', 6.922918004572872), ('makers', 6.922918004572872), ('restrained', 6.922918004572872), ('qu', 6.922918004572872), ('bec', 6.922918004572872), ('promote', 6.922918004572872), ('suited', 6.922918004572872), ('relatively', 6.922918004572872), ('horrendous', 6.922918004572872), ('frustration', 6.922918004572872), ('retarded', 6.922918004572872), ('girls', 6.922918004572872), ('manna', 6.922918004572872), ('evaluate', 6.922918004572872), ('veteran', 6.922918004572872), ('nostalgia', 6.922918004572872), ('trip', 6.922918004572872), ('ursula', 6.922918004572872), ('burton', 6.922918004572872), ('nun', 6.922918004572872), ('nuns', 6.922918004572872), ('shirley', 6.922918004572872), ('jones', 6.922918004572872), ('rendition', 6.922918004572872), ('tonight', 6.922918004572872), ('cotton', 6.922918004572872), ('club', 6.922918004572872), ('unfaithful', 6.922918004572872), ('gere', 6.922918004572872), ('dialogs', 6.922918004572872), ('shallow', 6.922918004572872), ('insincere', 6.922918004572872), ('politically', 6.922918004572872), ('correct', 6.922918004572872), ('savant', 6.922918004572872), ('sister', 6.922918004572872), ('peaking', 6.922918004572872), ('paper', 6.922918004572872), ('columbo', 6.922918004572872), ('neighbour', 6.922918004572872), ('misplace', 6.922918004572872), ('weaker', 6.922918004572872), ('debated', 6.922918004572872), ('sack', 6.922918004572872), ('trumpeter', 6.922918004572872), ('falsely', 6.922918004572872), ('murder', 6.922918004572872), ('applause', 6.922918004572872), ('prelude', 6.922918004572872), ('seat', 6.922918004572872), ('car', 6.922918004572872), ('villain', 6.922918004572872), ('michael', 6.922918004572872), ('ironside', 6.922918004572872), ('rocked', 6.922918004572872), ('social', 6.922918004572872), ('physical', 6.922918004572872), ('outlets', 6.922918004572872), ('ben', 6.922918004572872), ('affleck', 6.922918004572872), ('leaving', 6.922918004572872), ('wife', 6.922918004572872), ('knocked', 6.922918004572872), ('excruciatingly', 6.922918004572872), ('wedding', 6.922918004572872), ('agreed', 6.922918004572872), ('q', 6.922918004572872), ('network', 6.922918004572872), ('aired', 6.922918004572872), ('dribble', 6.922918004572872), ('imdb', 6.922918004572872), ('numbers', 6.922918004572872), ('cases', 6.922918004572872), ('mirrormask', 6.922918004572872), ('unsatisfactory', 6.922918004572872), ('inexperience', 6.922918004572872), ('meant', 6.922918004572872), ('passed', 6.922918004572872), ('ineptly', 6.922918004572872), ('stereotypically', 6.922918004572872), ('schoolers', 6.922918004572872), ('whine', 6.922918004572872), ('cry', 6.922918004572872), ('relate', 6.922918004572872), ('sharing', 6.922918004572872), ('others', 6.922918004572872), ('confuses', 6.922918004572872), ('fish', 6.922918004572872), ('underwater', 6.922918004572872), ('repeated', 6.922918004572872), ('thousand', 6.922918004572872), ('redeemed', 6.922918004572872), ('fodder', 6.922918004572872), ('treat', 6.922918004572872), ('anthony', 6.922918004572872), ('horse', 6.922918004572872), ('gosh', 6.922918004572872), ('walk', 6.922918004572872), ('theatre', 6.922918004572872), ('relief', 6.922918004572872), ('pillow', 6.922918004572872), ('boyfriend', 6.922918004572872), ('gone', 6.922918004572872), ('tickets', 6.922918004572872), ('dollars', 6.922918004572872), ('identifies', 6.922918004572872), ('cutouts', 6.922918004572872), ('reverse', 6.922918004572872), ('ugly', 6.922918004572872), ('haggis', 6.922918004572872), ('handle', 6.922918004572872), ('strokes', 6.922918004572872), ('storytelling', 6.922918004572872), ('painted', 6.922918004572872), ('crayons', 6.922918004572872), ('crash', 6.922918004572872), ('provokes', 6.922918004572872), ('emotion', 6.922918004572872), ('teaches', 6.922918004572872), ('prejudice', 6.922918004572872), ('empowerment', 6.922918004572872), ('shut', 6.922918004572872), ('primal', 6.922918004572872), ('impulse', 6.922918004572872), ('preservation', 6.922918004572872), ('shattered', 6.922918004572872), ('fully', 6.922918004572872), ('recover', 6.922918004572872), ('joins', 6.922918004572872), ('revenge', 6.922918004572872), ('boogeyman', 6.922918004572872), ('zombiez', 6.922918004572872), ('hellish', 6.922918004572872), ('trinity', 6.922918004572872), ('distinction', 6.922918004572872), ('artless', 6.922918004572872), ('endlessly', 6.922918004572872), ('ugliest', 6.922918004572872), ('e', 6.922918004572872), ('merit', 6.922918004572872), ('akin', 6.922918004572872), ('reasonable', 6.922918004572872), ('atrocity', 6.922918004572872), ('pleasant', 6.922918004572872), ('voyage', 6.922918004572872), ('discovery', 6.922918004572872), ('unrecommended', 6.922918004572872), ('ms', 6.922918004572872), ('garbo', 6.922918004572872), ('bat', 6.922918004572872), ('talents', 6.922918004572872), ('carry', 6.922918004572872), ('netflix', 6.922918004572872), ('stocking', 6.922918004572872), ('renowned', 6.922918004572872), ('frances', 6.922918004572872), ('marion', 6.922918004572872), ('suffered', 6.922918004572872), ('drag', 6.922918004572872), ('heroes', 6.922918004572872), ('ones', 6.922918004572872), ('wayne', 6.922918004572872), ('shined', 6.922918004572872), ('senior', 6.922918004572872), ('older', 6.922918004572872), ('junk', 6.922918004572872), ('showcasing', 6.922918004572872), ('punched', 6.922918004572872), ('gallon', 6.922918004572872), ('spew', 6.922918004572872), ('forth', 6.922918004572872), ('soon', 6.922918004572872), ('foxx', 6.922918004572872), ('owns', 6.922918004572872), ('spacek', 6.922918004572872), ('owned', 6.922918004572872), ('coal', 6.922918004572872), ('miner', 6.922918004572872), ('quaid', 6.922918004572872), ('balls', 6.922918004572872), ('fire', 6.922918004572872), ('legendary', 6.922918004572872), ('provided', 6.922918004572872), ('biographical', 6.922918004572872), ('musician', 6.922918004572872), ('ironically', 6.922918004572872), ('total', 6.922918004572872), ('secondly', 6.922918004572872), ('perfected', 6.922918004572872), ('chase', 6.922918004572872), ('pandering', 6.922918004572872), ('sabotages', 6.922918004572872), ('certain', 6.922918004572872), ('rumbles', 6.922918004572872), ('desperately', 6.922918004572872), ('depending', 6.922918004572872), ('logic', 6.922918004572872), ('chilly', 6.922918004572872), ('unremarkable', 6.922918004572872), ('author', 6.922918004572872), ('abstruse', 6.922918004572872), ('reenactments', 6.922918004572872), ('hold', 6.922918004572872), ('emotionally', 6.922918004572872), ('adrift', 6.922918004572872), ('stagy', 6.922918004572872), ('sits', 6.922918004572872), ('soldiers', 6.922918004572872), ('masculinity', 6.922918004572872), ('pledge', 6.922918004572872), ('hairsplitting', 6.922918004572872), ('purity', 6.922918004572872), ('admiration', 6.922918004572872), ('swords', 6.922918004572872), ('kill', 6.922918004572872), ('momentum', 6.922918004572872), ('quicker', 6.922918004572872), ('resume', 6.922918004572872), ('amateurish', 6.922918004572872), ('fascinated', 6.922918004572872), ('struck', 6.922918004572872), ('inconsistencies', 6.922918004572872), ('horrid', 6.922918004572872), ('gotten', 6.922918004572872), ('ballet', 6.922918004572872), ('repertory', 6.922918004572872), ('developments', 6.922918004572872), ('woa', 6.922918004572872), ('sappiest', 6.922918004572872), ('unwatchable', 6.922918004572872), ('check', 6.922918004572872), ('filmography', 6.922918004572872), ('site', 6.922918004572872), ('intentions', 6.922918004572872), ('undertone', 6.922918004572872), ('fifties', 6.922918004572872), ('existential', 6.922918004572872), ('weariness', 6.922918004572872), ('ought', 6.922918004572872), ('regrettably', 6.922918004572872), ('expression', 6.922918004572872), ('celebration', 6.922918004572872), ('patriotism', 6.922918004572872), ('underlines', 6.922918004572872), ('allison', 6.922918004572872), ('concert', 6.922918004572872), ('sequences', 6.922918004572872), ('ridiculousness', 6.922918004572872), ('angry', 6.922918004572872), ('surface', 6.922918004572872), ('state', 6.922918004572872), ('conceptually', 6.922918004572872), ('everybody', 6.922918004572872), ('fantasy', 6.922918004572872), ('sour', 6.922918004572872), ('wise', 6.922918004572872), ('considered', 6.922918004572872), ('thanks', 6.922918004572872), ('mexican', 6.922918004572872), ('understood', 6.922918004572872), ('identified', 6.922918004572872), ('crime', 6.922918004572872), ('belmondo', 6.922918004572872), ('lino', 6.922918004572872), ('ventura', 6.922918004572872), ('portrayals', 6.922918004572872), ('detailing', 6.922918004572872), ('loyalty', 6.922918004572872), ('treachery', 6.922918004572872), ('tremendous', 6.922918004572872), ('melville', 6.922918004572872), ('water', 6.922918004572872), ('manages', 6.922918004572872), ('transcend', 6.922918004572872), ('limitations', 6.922918004572872), ('indie', 6.922918004572872), ('continually', 6.922918004572872), ('subverting', 6.922918004572872), ('expectations', 6.922918004572872), ('emerge', 6.922918004572872), ('intense', 6.922918004572872), ('crocdodile', 6.922918004572872), ('website', 6.922918004572872), ('believed', 6.922918004572872), ('crocs', 6.922918004572872), ('swamp', 6.922918004572872), ('fabulous', 6.922918004572872), ('christopher', 6.922918004572872), ('eccleston', 6.922918004572872), ('tardis', 6.922918004572872), ('continuation', 6.922918004572872), ('succeeded', 6.922918004572872), ('forced', 6.922918004572872), ('pi', 6.922918004572872), ('camerawork', 6.922918004572872), ('witticisms', 6.922918004572872), ('bob', 6.922918004572872), ('rise', 6.922918004572872), ('finale', 6.922918004572872), ('trilogy', 6.922918004572872), ('kieslowski', 6.922918004572872), ('amaze', 6.922918004572872), ('directors', 6.922918004572872), ('colours', 6.922918004572872), ('flag', 6.922918004572872), ('three', 6.922918004572872), ('connections', 6.922918004572872), ('survivors', 6.922918004572872), ('ferry', 6.922918004572872), ('valentine', 6.922918004572872), ('judge', 6.922918004572872), ('solidifying', 6.922918004572872), ('happiness', 6.922918004572872), ('dealt', 6.922918004572872), ('wrap', 6.922918004572872), ('loves', 6.922918004572872), ('vomited', 6.922918004572872), ('roth', 6.922918004572872), ('pearls', 6.922918004572872), ('awarded', 6.922918004572872), ('eloquently', 6.922918004572872), ('francis', 6.922918004572872), ('ford', 6.922918004572872), ('gradually', 6.922918004572872), ('develop', 6.922918004572872), ('lies', 6.922918004572872), ('nicola', 6.922918004572872), ('roeg', 6.922918004572872), ('wih', 6.922918004572872), ('translating', 6.922918004572872), ('strives', 6.922918004572872), ('greatness', 6.922918004572872), ('muddled', 6.922918004572872), ('disparate', 6.922918004572872), ('accurately', 6.922918004572872), ('defined', 6.922918004572872), ('tolerate', 6.922918004572872), ('political', 6.922918004572872), ('incorrectness', 6.922918004572872), ('artistic', 6.922918004572872), ('suspension', 6.922918004572872), ('disbelief', 6.922918004572872), ('slavic', 6.922918004572872), ('outlandish', 6.922918004572872), ('array', 6.922918004572872), ('psychotic', 6.922918004572872), ('lovable', 6.922918004572872), ('enjoyment', 6.922918004572872), ('sweet', 6.922918004572872), ('telephone', 6.922918004572872), ('repair', 6.922918004572872), ('bitchy', 6.922918004572872), ('boss', 6.922918004572872), ('tear', 6.922918004572872), ('malta', 6.922918004572872), ('settings', 6.922918004572872), ('dry', 6.922918004572872), ('barren', 6.922918004572872), ('hockey', 6.922918004572872), ('defensemen', 6.922918004572872), ('goalies', 6.922918004572872), ('diving', 6.922918004572872), ('feet', 6.922918004572872), ('wide', 6.922918004572872), ('net', 6.922918004572872), ('relationship', 6.922918004572872), ('bakery', 6.922918004572872), ('assistant', 6.922918004572872), ('waitress', 6.922918004572872), ('superficial', 6.922918004572872), ('istagey', 6.922918004572872), ('farce', 6.922918004572872), ('pyromaniac', 6.922918004572872), ('waylaid', 6.922918004572872), ('switched', 6.922918004572872), ('pay', 6.922918004572872), ('yawn', 6.922918004572872), ('educational', 6.922918004572872), ('barney', 6.922918004572872), ('duper', 6.922918004572872), ('babie', 6.922918004572872), ('bop', 6.922918004572872), ('storm', 6.922918004572872), ('trooper', 6.922918004572872), ('potted', 6.922918004572872), ('plants', 6.922918004572872), ('shameful', 6.922918004572872), ('television', 6.922918004572872), ('writers', 6.922918004572872), ('smack', 6.922918004572872), ('bonus', 6.922918004572872), ('episodes', 6.922918004572872), ('latched', 6.922918004572872), ('endearing', 6.922918004572872), ('four', 6.922918004572872), ('sibling', 6.922918004572872), ('bond', 6.922918004572872), ('unneeded', 6.922918004572872), ('controversy', 6.922918004572872), ('damian', 6.922918004572872), ('versatile', 6.922918004572872), ('cutting', 6.922918004572872), ('letting', 6.922918004572872), ('passion', 6.922918004572872), ('forgetting', 6.922918004572872), ('ireland', 6.922918004572872), ('horrified', 6.922918004572872), ('sympathetic', 6.922918004572872), ('movements', 6.922918004572872), ('shelf', 6.922918004572872), ('elias', 6.922918004572872), ('koteas', 6.922918004572872), ('jack', 6.922918004572872), ('palance', 6.922918004572872), ('angelina', 6.922918004572872), ('hot', 6.922918004572872), ('naked', 6.922918004572872), ('appears', 6.922918004572872), ('cameo', 6.922918004572872), ('sven', 6.922918004572872), ('ole', 6.922918004572872), ('thorsen', 6.922918004572872), ('ebay', 6.922918004572872), ('poler', 6.922918004572872), ('fort', 6.922918004572872), ('steele', 6.922918004572872), ('unrealistic', 6.922918004572872), ('utter', 6.922918004572872), ('bell', 6.922918004572872), ('higher', 6.922918004572872), ('sink', 6.922918004572872), ('slackers', 6.922918004572872), ('excuses', 6.922918004572872), ('actions', 6.922918004572872), ('excerpts', 6.922918004572872), ('designed', 6.922918004572872), ('stylized', 6.922918004572872), ('exemplars', 6.922918004572872), ('designer', 6.922918004572872), ('powerful', 6.922918004572872), ('explorations', 6.922918004572872), ('politics', 6.922918004572872), ('japanese', 6.922918004572872), ('rendering', 6.922918004572872), ('imperial', 6.922918004572872), ('faultless', 6.922918004572872), ('underappreciated', 6.922918004572872), ('keith', 6.922918004572872), ('bully', 6.922918004572872), ('teddy', 6.922918004572872), ('vivid', 6.922918004572872), ('largely', 6.922918004572872), ('sean', 6.922918004572872), ('noble', 6.922918004572872), ('brigand', 6.922918004572872), ('candace', 6.922918004572872), ('bergen', 6.922918004572872), ('feisty', 6.922918004572872), ('heroine', 6.922918004572872), ('wily', 6.922918004572872), ('hay', 6.922918004572872), ('kanaly', 6.922918004572872), ('spiffy', 6.922918004572872), ('radiant', 6.922918004572872), ('lieutenant', 6.922918004572872), ('roosevelt', 6.922918004572872), ('stick', 6.922918004572872), ('adventure', 6.922918004572872), ('ryans', 6.922918004572872), ('portrayed', 6.922918004572872), ('father', 6.922918004572872), ('schizophrenic', 6.922918004572872), ('affected', 6.922918004572872), ('apt', 6.922918004572872), ('brother', 6.922918004572872), ('ryan', 6.922918004572872), ('imitation', 6.922918004572872), ('individual', 6.922918004572872), ('fashioned', 6.922918004572872), ('tuneful', 6.922918004572872), ('rita', 6.922918004572872), ('hayworth', 6.922918004572872), ('pedestal', 6.922918004572872), ('exploit', 6.922918004572872), ('financial', 6.922918004572872), ('gain', 6.922918004572872), ('linear', 6.922918004572872), ('narration', 6.922918004572872), ('thus', 6.922918004572872), ('flashbacks', 6.922918004572872), ('articulated', 6.922918004572872), ('monica', 6.922918004572872), ('bellucci', 6.922918004572872), ('commentary', 6.922918004572872), ('timers', 6.922918004572872), ('laughs', 6.922918004572872), ('northern', 6.922918004572872), ('positive', 6.922918004572872), ('community', 6.922918004572872), ('represents', 6.922918004572872), ('unique', 6.922918004572872), ('vivian', 6.922918004572872), ('schilling', 6.922918004572872), ('theatres', 6.922918004572872), ('screamy', 6.922918004572872), ('masculine', 6.922918004572872), ('casted', 6.922918004572872), ('throwback', 6.922918004572872), ('student', 6.922918004572872), ('experiences', 6.922918004572872), ('abroad', 6.922918004572872), ('interacting', 6.922918004572872), ('nationalities', 6.922918004572872), ('circumstances', 6.922918004572872), ('slightly', 6.922918004572872), ('ticker', 6.922918004572872), ('buildings', 6.922918004572872), ('couple', 6.922918004572872), ('locations', 6.922918004572872), ('hummh', 6.922918004572872), ('blew', 6.922918004572872), ('angel', 6.922918004572872), ('scamp', 6.922918004572872), ('yelps', 6.922918004572872), ('hes', 6.922918004572872), ('funniest', 6.922918004572872), ('caught', 6.922918004572872), ('curtain', 6.922918004572872), ('ive', 6.922918004572872), ('edition', 6.922918004572872), ('lid', 6.922918004572872), ('cant', 6.922918004572872), ('romantic', 6.922918004572872), ('junkyard', 6.922918004572872), ('laughed', 6.922918004572872), ('chosen', 6.922918004572872), ('tortured', 6.922918004572872), ('disgusting', 6.922918004572872), ('blatant', 6.922918004572872), ('propaganda', 6.922918004572872), ('hatred', 6.922918004572872), ('admitted', 6.922918004572872), ('elsewhere', 6.922918004572872), ('school', 6.922918004572872), ('pile', 6.922918004572872), ('round', 6.922918004572872), ('enter', 6.922918004572872), ('admins', 6.922918004572872), ('thunderbirds', 6.922918004572872), ('motion', 6.922918004572872), ('needlessly', 6.922918004572872), ('repeats', 6.922918004572872), ('backed', 6.922918004572872), ('vehicles', 6.922918004572872), ('corn', 6.922918004572872), ('flakes', 6.922918004572872), ('box', 6.922918004572872), ('bordered', 6.922918004572872), ('stupidity', 6.922918004572872), ('reviews', 6.922918004572872), ('filmmaker', 6.922918004572872), ('nor', 6.922918004572872), ('hide', 6.922918004572872), ('monumental', 6.922918004572872), ('halfway', 6.922918004572872), ('embarrassed', 6.922918004572872), ('howell', 6.922918004572872), ('bag', 6.922918004572872), ('side', 6.922918004572872), ('stephen', 6.922918004572872), ('mchattie', 6.922918004572872), ('lance', 6.922918004572872), ('hendrikson', 6.922918004572872), ('raging', 6.922918004572872), ('cheekbones', 6.922918004572872), ('professionals', 6.922918004572872), ('debbie', 6.922918004572872), ('rochon', 6.922918004572872), ('contributory', 6.922918004572872), ('former', 6.922918004572872), ('chimp', 6.922918004572872), ('tolerable', 6.922918004572872), ('oy', 6.922918004572872), ('vey', 6.922918004572872), ('simplifying', 6.922918004572872), ('brevity', 6.922918004572872), ('fulfilling', 6.922918004572872), ('amusing', 6.922918004572872), ('convoluted', 6.922918004572872), ('convince', 6.922918004572872), ('questioning', 6.922918004572872), ('bela', 6.922918004572872), ('lugosi', 6.922918004572872), ('extraneous', 6.922918004572872), ('intoning', 6.922918004572872), ('decidely', 6.922918004572872), ('universal', 6.922918004572872), ('armand', 6.922918004572872), ('assante', 6.922918004572872), ('cable', 6.922918004572872), ('company', 6.922918004572872), ('sounded', 6.922918004572872), ('tying', 6.922918004572872), ('loose', 6.922918004572872), ('ends', 6.922918004572872), ('wow', 6.922918004572872), ('comprehensible', 6.922918004572872), ('hang', 6.922918004572872), ('camp', 6.922918004572872), ('value', 6.922918004572872), ('expecting', 6.922918004572872), ('iq', 6.922918004572872), ('mollusk', 6.922918004572872), ('loosely', 6.922918004572872), ('public', 6.922918004572872), ('string', 6.922918004572872), ('lower', 6.922918004572872), ('channel', 6.922918004572872), ('contract', 6.922918004572872), ('scripts', 6.922918004572872), ('victor', 6.922918004572872), ('mclaglen', 6.922918004572872), ('donlevy', 6.922918004572872), ('president', 6.922918004572872), ('u', 6.922918004572872), ('row', 6.922918004572872), ('unmoving', 6.922918004572872), ('producer', 6.922918004572872), ('gifted', 6.922918004572872), ('cheerless', 6.922918004572872), ('heist', 6.922918004572872), ('characterisation', 6.922918004572872), ('underbite', 6.922918004572872), ('stoic', 6.922918004572872), ('emoting', 6.922918004572872), ('chow', 6.922918004572872), ('yun', 6.922918004572872), ('tomorrow', 6.922918004572872), ('abandoned', 6.922918004572872), ('factory', 6.922918004572872), ('executed', 6.922918004572872), ('flying', 6.922918004572872), ('judo', 6.922918004572872), ('rolls', 6.922918004572872), ('la', 6.922918004572872), ('woo', 6.922918004572872), ('squibs', 6.922918004572872), ('derivative', 6.922918004572872), ('hopeless', 6.922918004572872), ('uneasy', 6.922918004572872), ('composed', 6.922918004572872), ('elderly', 6.922918004572872), ('awkwardly', 6.922918004572872), ('babbling', 6.922918004572872), ('overwrought', 6.922918004572872), ('pseudo', 6.922918004572872), ('satanic', 6.922918004572872), ('gibberish', 6.922918004572872), ('corny', 6.922918004572872), ('teen', 6.922918004572872), ('goth', 6.922918004572872), ('blush', 6.922918004572872), ('olde', 6.922918004572872), ('english', 6.922918004572872), ('latin', 6.922918004572872), ('sloppy', 6.922918004572872), ('blah', 6.922918004572872), ('underacting', 6.922918004572872), ('competent', 6.922918004572872), ('jerry', 6.922918004572872), ('falwell', 6.922918004572872), ('starring', 6.922918004572872), ('jaclyn', 6.922918004572872), ('smith', 6.922918004572872), ('lifetime', 6.922918004572872), ('knows', 6.922918004572872), ('sells', 6.922918004572872), ('assaulted', 6.922918004572872), ('strident', 6.922918004572872), ('cords', 6.922918004572872), ('blare', 6.922918004572872), ('warning', 6.922918004572872), ('pap', 6.922918004572872), ('screened', 6.922918004572872), ('afternoon', 6.922918004572872), ('punish', 6.922918004572872), ('unemployed', 6.922918004572872), ('understatement', 6.922918004572872), ('universe', 6.922918004572872), ('team', 6.922918004572872), ('behind', 6.922918004572872), ('continue', 6.922918004572872), ('forgot', 6.922918004572872), ('trond', 6.922918004572872), ('fausa', 6.922918004572872), ('aurv', 6.922918004572872), ('bothersome', 6.922918004572872), ('comment', 6.922918004572872), ('move', 6.922918004572872), ('initially', 6.922918004572872), ('local', 6.922918004572872), ('sites', 6.922918004572872), ('buffalo', 6.922918004572872), ('intrigued', 6.922918004572872), ('later', 6.922918004572872), ('power', 6.922918004572872), ('applauded', 6.922918004572872), ('lilt', 6.922918004572872), ('duris', 6.922918004572872), ('views', 6.922918004572872), ('barcelona', 6.922918004572872), ('famed', 6.922918004572872), ('gaudi', 6.922918004572872), ('towers', 6.922918004572872), ('ended', 6.922918004572872), ('despised', 6.922918004572872), ('rough', 6.922918004572872), ('draft', 6.922918004572872), ('shooting', 6.922918004572872), ('finished', 6.922918004572872), ('completed', 6.922918004572872), ('personalities', 6.922918004572872), ('twists', 6.922918004572872), ('occur', 6.922918004572872), ('calls', 6.922918004572872), ('irritating', 6.922918004572872), ('indescribably', 6.922918004572872), ('idiotic', 6.922918004572872), ('produce', 6.922918004572872), ('cheesiness', 6.922918004572872), ('unethical', 6.922918004572872), ('normally', 6.922918004572872), ('r', 6.922918004572872), ('zillion', 6.922918004572872), ('washing', 6.922918004572872), ('twirling', 6.922918004572872), ('hurt', 6.922918004572872), ('grade', 6.922918004572872), ('z', 6.922918004572872), ('road', 6.922918004572872), ('silly', 6.922918004572872), ('unmitigated', 6.922918004572872), ('blandly', 6.922918004572872), ('edward', 6.922918004572872), ('chodorov', 6.922918004572872), ('negulesco', 6.922918004572872), ('deal', 6.922918004572872), ('widmark', 6.922918004572872), ('unintentionally', 6.922918004572872), ('comical', 6.922918004572872), ('marbles', 6.922918004572872), ('marred', 6.922918004572872), ('constant', 6.922918004572872), ('indoor', 6.922918004572872), ('exteriors', 6.922918004572872), ('prompted', 6.922918004572872), ('dont', 6.922918004572872), ('middle', 6.922918004572872), ('aged', 6.922918004572872), ('upper', 6.922918004572872), ('class', 6.922918004572872), ('uptight', 6.922918004572872), ('add', 6.922918004572872), ('mistakes', 6.922918004572872), ('jokes', 6.922918004572872), ('offend', 6.922918004572872), ('littered', 6.922918004572872), ('overt', 6.922918004572872), ('slurs', 6.922918004572872), ('members', 6.922918004572872), ('whites', 6.922918004572872), ('depicted', 6.922918004572872), ('morons', 6.922918004572872), ('boobs', 6.922918004572872), ('card', 6.922918004572872), ('lets', 6.922918004572872), ('major', 6.922918004572872), ('flaw', 6.922918004572872), ('destroy', 6.922918004572872), ('latifa', 6.922918004572872), ('wouldnt', 6.922918004572872), ('steamboat', 6.922918004572872), ('willie', 6.922918004572872), ('amazingly', 6.922918004572872), ('plane', 6.922918004572872), ('famous', 6.922918004572872), ('ground', 6.922918004572872), ('breaking', 6.922918004572872), ('tons', 6.922918004572872), ('granted', 6.922918004572872), ('amazed', 6.922918004572872), ('timeless', 6.922918004572872), ('turkey', 6.922918004572872), ('straw', 6.922918004572872), ('cruel', 6.922918004572872), ('bipolarity', 6.922918004572872), ('thug', 6.922918004572872), ('luv', 6.922918004572872), ('diaper', 6.922918004572872), ('commercial', 6.922918004572872), ('receive', 6.922918004572872), ('awards', 6.922918004572872), ('accolades', 6.922918004572872), ('body', 6.922918004572872), ('garfield', 6.922918004572872), ('ann', 6.922918004572872), ('revere', 6.922918004572872), ('lilli', 6.922918004572872), ('plmer', 6.922918004572872), ('william', 6.922918004572872), ('conrad', 6.922918004572872), ('lee', 6.922918004572872), ('cinematographers', 6.922918004572872), ('wong', 6.922918004572872), ('howe', 6.922918004572872), ('qualities', 6.922918004572872), ('thomerson', 6.922918004572872), ('version', 6.922918004572872), ('professor', 6.922918004572872), ('established', 6.922918004572872), ('students', 6.922918004572872), ('humans', 6.922918004572872), ('removing', 6.922918004572872), ('necklace', 6.922918004572872), ('containing', 6.922918004572872), ('meteorite', 6.922918004572872), ('matthews', 6.922918004572872), ('wrote', 6.922918004572872), ('monster', 6.922918004572872), ('grim', 6.922918004572872), ('pace', 6.922918004572872), ('bland', 6.922918004572872), ('aspects', 6.922918004572872), ('lack', 6.922918004572872), ('gore', 6.922918004572872), ('convention', 6.922918004572872), ('worked', 6.922918004572872), ('cg', 6.922918004572872), ('microsoft', 6.922918004572872), ('slideshow', 6.922918004572872), ('explosion', 6.922918004572872), ('gas', 6.922918004572872), ('tanks', 6.922918004572872), ('okay', 6.922918004572872), ('fair', 6.922918004572872), ('critic', 6.922918004572872), ('creature', 6.922918004572872), ('gotta', 6.922918004572872), ('slimy', 6.922918004572872), ('drooling', 6.922918004572872), ('teeth', 6.922918004572872), ('breeders', 6.922918004572872), ('cheaply', 6.922918004572872), ('avoided', 6.922918004572872), ('ebola', 6.922918004572872), ('virus', 6.922918004572872), ('unbearable', 6.922918004572872), ('comedic', 6.922918004572872), ('timing', 6.922918004572872), ('debits', 6.922918004572872), ('popcorn', 6.922918004572872), ('borders', 6.922918004572872), ('lewis', 6.922918004572872), ('considerable', 6.922918004572872), ('incendiary', 6.922918004572872), ('unrestrained', 6.922918004572872), ('allow', 6.922918004572872), ('sole', 6.922918004572872), ('bright', 6.922918004572872), ('spot', 6.922918004572872), ('superbad', 6.922918004572872), ('weight', 6.922918004572872), ('interim', 6.922918004572872), ('originality', 6.922918004572872), ('freshness', 6.922918004572872), ('offer', 6.922918004572872), ('evidently', 6.922918004572872), ('limited', 6.922918004572872), ('reflected', 6.922918004572872), ('borrowed', 6.922918004572872), ('filmiing', 6.922918004572872), ('expansive', 6.922918004572872), ('failed', 6.922918004572872), ('convey', 6.922918004572872), ('broad', 6.922918004572872), ('sweep', 6.922918004572872), ('landscapes', 6.922918004572872), ('sign', 6.922918004572872), ('improvement', 6.922918004572872), ('expected', 6.922918004572872), ('beware', 6.922918004572872), ('trashy', 6.922918004572872), ('precisely', 6.922918004572872), ('giving', 6.922918004572872), ('proudly', 6.922918004572872), ('classical', 6.922918004572872), ('wb', 6.922918004572872), ('tiny', 6.922918004572872), ('toons', 6.922918004572872), ('kept', 6.922918004572872), ('vibe', 6.922918004572872), ('delivered', 6.922918004572872), ('underrated', 6.922918004572872), ('murky', 6.922918004572872), ('product', 6.922918004572872), ('related', 6.922918004572872), ('tender', 6.922918004572872), ('getting', 6.922918004572872), ('sitcoms', 6.922918004572872), ('oriented', 6.922918004572872), ('teenagers', 6.922918004572872), ('peculiarity', 6.922918004572872), ('excessively', 6.922918004572872), ('phony', 6.922918004572872), ('contrived', 6.922918004572872), ('sit', 6.922918004572872), ('fifteen', 6.922918004572872), ('um', 6.922918004572872), ('perabo', 6.922918004572872), ('comfortable', 6.922918004572872), ('excuse', 6.922918004572872), ('honest', 6.922918004572872), ('foolish', 6.922918004572872), ('accents', 6.922918004572872), ('hypocrisy', 6.922918004572872), ('rubbish', 6.922918004572872), ('researched', 6.922918004572872), ('pitch', 6.922918004572872), ('longer', 6.922918004572872), ('surprised', 6.922918004572872), ('omit', 6.922918004572872), ('instant', 6.922918004572872), ('catchy', 6.922918004572872), ('credits', 6.922918004572872), ('miss', 6.922918004572872), ('simmering', 6.922918004572872), ('boiling', 6.922918004572872), ('warts', 6.922918004572872), ('study', 6.922918004572872), ('poet', 6.922918004572872), ('bohemian', 6.922918004572872), ('wartime', 6.922918004572872), ('span', 6.922918004572872), ('bombardments', 6.922918004572872), ('london', 6.922918004572872), ('outward', 6.922918004572872), ('tranquillity', 6.922918004572872), ('welsh', 6.922918004572872), ('coastal', 6.922918004572872), ('retreat', 6.922918004572872), ('borderlines', 6.922918004572872), ('friendship', 6.922918004572872), ('lust', 6.922918004572872), ('versus', 6.922918004572872), ('practical', 6.922918004572872), ('concerns', 6.922918004572872), ('jealousy', 6.922918004572872), ('rivalry', 6.922918004572872), ('cowardice', 6.922918004572872), ('egotism', 6.922918004572872), ('heroism', 6.922918004572872), ('sacrifice', 6.922918004572872), ('suggests', 6.922918004572872), ('brings', 6.922918004572872), ('tensions', 6.922918004572872), ('served', 6.922918004572872), ('apart', 6.922918004572872), ('inappropriate', 6.922918004572872), ('smiling', 6.922918004572872), ('keira', 6.922918004572872), ('knightley', 6.922918004572872), ('prone', 6.922918004572872), ('inventive', 6.922918004572872), ('elegant', 6.922918004572872), ('angle', 6.922918004572872), ('pointillistic', 6.922918004572872), ('behold', 6.922918004572872), ('continuously', 6.922918004572872), ('bertolucci', 6.922918004572872), ('basic', 6.922918004572872), ('sidelined', 6.922918004572872), ('inexplicable', 6.922918004572872), ('crew', 6.922918004572872), ('regardless', 6.922918004572872), ('custer', 6.922918004572872), ('alongside', 6.922918004572872), ('olivia', 6.922918004572872), ('havilland', 6.922918004572872), ('dads', 6.922918004572872), ('grew', 6.922918004572872), ('realised', 6.922918004572872), ('jim', 6.922918004572872), ('connor', 6.922918004572872), ('energetic', 6.922918004572872), ('george', 6.922918004572872), ('hosting', 6.922918004572872), ('overs', 6.922918004572872), ('monotonous', 6.922918004572872), ('guests', 6.922918004572872), ('shenanigans', 6.922918004572872), ('spy', 6.922918004572872), ('kidnapped', 6.922918004572872), ('nasty', 6.922918004572872), ('foreign', 6.922918004572872), ('random', 6.922918004572872), ('taxidermists', 6.922918004572872), ('stewart', 6.922918004572872), ('hero', 6.922918004572872), ('rips', 6.922918004572872), ('climax', 6.922918004572872), ('embassy', 6.922918004572872), ('function', 6.922918004572872), ('brooding', 6.922918004572872), ('menace', 6.922918004572872), ('nevertheless', 6.922918004572872), ('stable', 6.922918004572872), ('tops', 6.922918004572872), ('typical', 6.922918004572872), ('producers', 6.922918004572872), ('scot', 6.922918004572872), ('vandiver', 6.922918004572872), ('nonetheless', 6.922918004572872), ('campy', 6.922918004572872), ('bendingly', 6.922918004572872), ('scares', 6.922918004572872), ('medical', 6.922918004572872), ('terminology', 6.922918004572872), ('iffy', 6.922918004572872), ('insulin', 6.922918004572872), ('dependant', 6.922918004572872), ('diabetic', 6.922918004572872), ('complexity', 6.922918004572872), ('task', 6.922918004572872), ('challenges', 6.922918004572872), ('facing', 6.922918004572872), ('outside', 6.922918004572872), ('attempted', 6.922918004572872), ('truth', 6.922918004572872), ('reconciliation', 6.922918004572872), ('magnificent', 6.922918004572872), ('seamlessly', 6.922918004572872), ('woven', 6.922918004572872), ('splendid', 6.922918004572872), ('view', 6.922918004572872), ('subtitles', 6.922918004572872), ('aversion', 6.922918004572872), ('therapy', 6.922918004572872), ('shakespear', 6.922918004572872), ('amust', 6.922918004572872), ('jason', 6.922918004572872), ('moved', 6.922918004572872), ('tears', 6.922918004572872), ('monolog', 6.922918004572872), ('candle', 6.922918004572872), ('sphere', 6.922918004572872), ('helen', 6.922918004572872), ('baxendale', 6.922918004572872), ('credible', 6.922918004572872), ('lady', 6.922918004572872), ('cheerfull', 6.922918004572872), ('naughty', 6.922918004572872), ('deadly', 6.922918004572872), ('taste', 6.922918004572872), ('shakespears', 6.922918004572872), ('lyrics', 6.922918004572872), ('delightful', 6.922918004572872), ('dr', 6.922918004572872), ('seuss', 6.922918004572872), ('brilliantly', 6.922918004572872), ('animated', 6.922918004572872), ('upa', 6.922918004572872), ('finest', 6.922918004572872), ('academy', 6.922918004572872), ('award', 6.922918004572872), ('integral', 6.922918004572872), ('helping', 6.922918004572872), ('bailey', 6.922918004572872), ('crisp', 6.922918004572872), ('colored', 6.922918004572872), ('design', 6.922918004572872), ('costumes', 6.922918004572872), ('eiko', 6.922918004572872), ('ishioka', 6.922918004572872), ('went', 6.922918004572872), ('dracula', 6.922918004572872), ('allowing', 6.922918004572872), ('format', 6.922918004572872), ('baaaaaad', 6.922918004572872), ('unless', 6.922918004572872), ('collect', 6.922918004572872), ('extant', 6.922918004572872), ('austen', 6.922918004572872), ('skip', 6.922918004572872), ('consolations', 6.922918004572872), ('speaking', 6.922918004572872), ('unbearably', 6.922918004572872), ('kitchy', 6.922918004572872), ('dropped', 6.922918004572872), ('ball', 6.922918004572872), ('raw', 6.922918004572872), ('sublimely', 6.922918004572872), ('theatrical', 6.922918004572872), ('terror', 6.922918004572872), ('lie', 6.922918004572872), ('escalating', 6.922918004572872), ('monstrous', 6.922918004572872), ('consequences', 6.922918004572872), ('players', 6.922918004572872), ('mesmerising', 6.922918004572872), ('broke', 6.922918004572872), ('judging', 6.922918004572872), ('fumbling', 6.922918004572872), ('hankies', 6.922918004572872), ('faces', 6.922918004572872), ('males', 6.922918004572872), ('females', 6.922918004572872), ('alike', 6.922918004572872), ('julian', 6.922918004572872), ('fellowes', 6.922918004572872), ('triumphed', 6.922918004572872), ('national', 6.922918004572872), ('treasure', 6.922918004572872), ('phrase', 6.922918004572872), ('owed', 6.922918004572872), ('kris', 6.922918004572872), ('kristoffersen', 6.922918004572872), ('difference', 6.922918004572872), ('marriage', 6.922918004572872), ('errors', 6.922918004572872), ('user', 6.922918004572872), ('commented', 6.922918004572872), ('cars', 6.922918004572872), ('garage', 6.922918004572872), ('joe', 6.922918004572872), ('glasses', 6.922918004572872), ('facial', 6.922918004572872), ('hair', 6.922918004572872), ('configuration', 6.922918004572872), ('inspiration', 6.922918004572872), ('overcome', 6.922918004572872), ('rejection', 6.922918004572872), ('punishment', 6.922918004572872), ('park', 6.922918004572872), ('southern', 6.922918004572872), ('california', 6.922918004572872), ('desert', 6.922918004572872), ('using', 6.922918004572872), ('patent', 6.922918004572872), ('accessible', 6.922918004572872), ('wont', 6.922918004572872), ('miserable', 6.922918004572872), ('iso', 6.922918004572872), ('angela', 6.922918004572872), ('bennett', 6.922918004572872), ('expert', 6.922918004572872), ('pretext', 6.922918004572872), ('repeating', 6.922918004572872), ('robotic', 6.922918004572872), ('moves', 6.922918004572872), ('results', 6.922918004572872), ('delete', 6.922918004572872), ('comments', 6.922918004572872), ('uncalled', 6.922918004572872), ('geek', 6.922918004572872), ('bible', 6.922918004572872), ('thumper', 6.922918004572872), ('except', 6.922918004572872), ('pulling', 6.922918004572872), ('plug', 6.922918004572872), ('equivalent', 6.922918004572872), ('dickens', 6.922918004572872), ('carol', 6.922918004572872), ('sensibility', 6.922918004572872), ('success', 6.922918004572872), ('depends', 6.922918004572872), ('sydney', 6.922918004572872), ('greenstreet', 6.922918004572872), ('yardley', 6.922918004572872), ('attractive', 6.922918004572872), ('pleasing', 6.922918004572872), ('im', 6.922918004572872), ('rpg', 6.922918004572872), ('disgrace', 6.922918004572872), ('respecting', 6.922918004572872), ('rpger', 6.922918004572872), ('cuts', 6.922918004572872), ('audio', 6.922918004572872), ('youtube', 6.922918004572872), ('lassie', 6.922918004572872), ('forever', 6.922918004572872), ('painfully', 6.922918004572872), ('dreary', 6.922918004572872), ('waster', 6.922918004572872), ('becomes', 6.922918004572872), ('forgettable', 6.922918004572872), ('shell', 6.922918004572872), ('wasting', 6.922918004572872), ('kid', 6.922918004572872), ('barking', 6.922918004572872), ('transfers', 6.922918004572872), ('relaxing', 6.922918004572872), ('late', 6.922918004572872), ('title', 6.922918004572872), ('handles', 6.922918004572872), ('tough', 6.922918004572872), ('dignity', 6.922918004572872), ('shocking', 6.922918004572872), ('happy', 6.922918004572872), ('touches', 6.922918004572872), ('whenever', 6.922918004572872), ('memorized', 6.922918004572872), ('pair', 6.922918004572872), ('fishnet', 6.922918004572872), ('stockings', 6.922918004572872), ('astonishingly', 6.922918004572872), ('ham', 6.922918004572872), ('fisted', 6.922918004572872), ('irons', 6.922918004572872), ('holds', 6.922918004572872), ('unconditional', 6.922918004572872), ('prepared', 6.922918004572872), ('ordeal', 6.922918004572872), ('progresses', 6.922918004572872), ('anguish', 6.922918004572872), ('quick', 6.922918004572872), ('pans', 6.922918004572872), ('reviewers', 6.922918004572872), ('interview', 6.922918004572872), ('vampire', 6.922918004572872), ('lestat', 6.922918004572872), ('stuart', 6.922918004572872), ('townsend', 6.922918004572872), ('cruise', 6.922918004572872), ('aailiyah', 6.922918004572872), ('akasha', 6.922918004572872), ('entrance', 6.922918004572872), ('rice', 6.922918004572872), ('sensitivities', 6.922918004572872), ('treatments', 6.922918004572872), ('details', 6.922918004572872), ('dysfunction', 6.922918004572872), ('football', 6.922918004572872), ('perplexing', 6.922918004572872), ('skilled', 6.922918004572872), ('meredith', 6.922918004572872), ('rare', 6.922918004572872), ('maker', 6.922918004572872), ('worthy', 6.922918004572872), ('trap', 6.922918004572872), ('syrupy', 6.922918004572872), ('nine', 6.922918004572872), ('goremeister', 6.922918004572872), ('lucio', 6.922918004572872), ('thrillers', 6.922918004572872), ('standout', 6.922918004572872), ('unpleasant', 6.922918004572872), ('technically', 6.922918004572872), ('riz', 6.922918004572872), ('ortolani', 6.922918004572872), ('recurring', 6.922918004572872), ('unaccompanied', 6.922918004572872), ('vocal', 6.922918004572872), ('sounds', 6.922918004572872), ('distant', 6.922918004572872), ('wild', 6.922918004572872), ('stuff', 6.922918004572872), ('dustin', 6.922918004572872), ('hoffman', 6.922918004572872), ('personally', 6.922918004572872), ('compromise', 6.922918004572872), ('involving', 6.922918004572872), ('issue', 6.922918004572872), ('tired', 6.922918004572872), ('thick', 6.922918004572872), ('ps', 6.922918004572872), ('finds', 6.922918004572872), ('blown', 6.922918004572872), ('effect', 6.922918004572872), ('jennifer', 6.922918004572872), ('rubin', 6.922918004572872), ('harris', 6.922918004572872), ('changes', 6.922918004572872), ('nervous', 6.922918004572872), ('starlet', 6.922918004572872), ('strange', 6.922918004572872), ('events', 6.922918004572872), ('inside', 6.922918004572872), ('situations', 6.922918004572872), ('coach', 6.922918004572872), ('snow', 6.922918004572872), ('ultra', 6.922918004572872), ('exciting', 6.922918004572872), ('uniqueness', 6.922918004572872), ('foreigner', 6.922918004572872), ('stranger', 6.922918004572872), ('astronaut', 6.922918004572872), ('exchange', 6.922918004572872), ('considers', 6.922918004572872), ('cold', 6.922918004572872), ('biggest', 6.922918004572872), ('crashed', 6.922918004572872), ('ussr', 6.922918004572872), ('scream', 6.922918004572872), ('scare', 6.922918004572872), ('extraordinary', 6.922918004572872), ('indictment', 6.922918004572872), ('justice', 6.922918004572872), ('system', 6.922918004572872), ('highlights', 6.922918004572872), ('fundamental', 6.922918004572872), ('legal', 6.922918004572872), ('guilt', 6.922918004572872), ('innocence', 6.922918004572872), ('court', 6.922918004572872), ('routine', 6.922918004572872), ('based', 6.922918004572872), ('boost', 6.922918004572872), ('clear', 6.922918004572872), ('range', 6.922918004572872), ('carries', 6.922918004572872), ('constantine', 6.922918004572872), ('intensity', 6.922918004572872), ('understanding', 6.922918004572872), ('motivations', 6.922918004572872), ('inspiring', 6.922918004572872), ('stinker', 6.922918004572872), ('smells', 6.922918004572872), ('direct', 6.922918004572872), ('release', 6.922918004572872), ('trek', 6.922918004572872), ('v', 6.922918004572872), ('frontier', 6.922918004572872), ('includes', 6.922918004572872), ('shatner', 6.922918004572872), ('nimoy', 6.922918004572872), ('washed', 6.922918004572872), ('tacky', 6.922918004572872), ('spock', 6.922918004572872), ('rescue', 6.922918004572872), ('kirk', 6.922918004572872), ('jet', 6.922918004572872), ('pack', 6.922918004572872), ('falls', 6.922918004572872), ('mountain', 6.922918004572872), ('humor', 6.922918004572872), ('dose', 6.922918004572872), ('involves', 6.922918004572872), ('vulcan', 6.922918004572872), ('stealing', 6.922918004572872), ('enterprise', 6.922918004572872), ('uhura', 6.922918004572872), ('belly', 6.922918004572872), ('distract', 6.922918004572872), ('guards', 6.922918004572872), ('phenomenal', 6.922918004572872), ('opinion', 6.922918004572872), ('subjects', 6.922918004572872), ('jay', 6.922918004572872), ('adams', 6.922918004572872), ('unfortunate', 6.922918004572872), ('subject', 6.922918004572872), ('evokes', 6.922918004572872), ('grainy', 6.922918004572872), ('enhanced', 6.922918004572872), ('delights', 6.922918004572872), ('surprises', 6.922918004572872), ('achille', 6.922918004572872), ('philippa', 6.922918004572872), ('sing', 6.922918004572872), ('giovanni', 6.922918004572872), ('describes', 6.922918004572872), ('layers', 6.922918004572872), ('jutland', 6.922918004572872), ('instruments', 6.922918004572872), ('touch', 6.922918004572872), ('general', 6.922918004572872), ('loewenhielm', 6.922918004572872), ('partaking', 6.922918004572872), ('cailles', 6.922918004572872), ('en', 6.922918004572872), ('sarcophage', 6.922918004572872), ('sample', 6.922918004572872), ('savor', 6.922918004572872), ('lasting', 6.922918004572872), ('impression', 6.922918004572872), ('generates', 6.922918004572872), ('austere', 6.922918004572872), ('backdrop', 6.922918004572872), ('wanting', 6.922918004572872), ('notch', 6.922918004572872), ('fleshed', 6.922918004572872), ('grimes', 6.922918004572872), ('blake', 6.922918004572872), ('deliver', 6.922918004572872), ('sharply', 6.922918004572872), ('scripted', 6.922918004572872), ('deadpan', 6.922918004572872), ('tongue', 6.922918004572872), ('cheek', 6.922918004572872), ('angus', 6.922918004572872), ('scrimm', 6.922918004572872), ('gently', 6.922918004572872), ('menacing', 6.922918004572872), ('violin', 6.922918004572872), ('anatomist', 6.922918004572872), ('entertained', 6.922918004572872), ('struggle', 6.922918004572872), ('phantasm', 6.922918004572872), ('falling', 6.922918004572872), ('collective', 6.922918004572872), ('heads', 6.922918004572872), ('concerning', 6.922918004572872), ('kudos', 6.922918004572872), ('modest', 6.922918004572872), ('juano', 6.922918004572872), ('hernandez', 6.922918004572872), ('supporting', 6.922918004572872), ('murdering', 6.922918004572872), ('trumbull', 6.922918004572872), ('open', 6.922918004572872), ('reminded', 6.922918004572872), ('evinced', 6.922918004572872), ('faithful', 6.922918004572872), ('joyce', 6.922918004572872), ('acclaimed', 6.922918004572872), ('novella', 6.922918004572872), ('feelings', 6.922918004572872), ('gabriel', 6.922918004572872), ('discomfort', 6.922918004572872), ('intangibles', 6.922918004572872), ('leap', 6.922918004572872), ('within', 6.922918004572872), ('viewer', 6.922918004572872), ('grasp', 6.922918004572872), ('wondered', 6.922918004572872), ('shortlist', 6.922918004572872), ('emperor', 6.922918004572872), ('spend', 6.922918004572872), ('days', 6.922918004572872), ('surely', 6.922918004572872), ('coherent', 6.922918004572872), ('force', 6.922918004572872), ('obliged', 6.922918004572872), ('creative', 6.922918004572872), ('confusing', 6.922918004572872), ('subplots', 6.922918004572872), ('native', 6.922918004572872), ('eating', 6.922918004572872), ('brainsucking', 6.922918004572872), ('telly', 6.922918004572872), ('savalas', 6.922918004572872), ('boyle', 6.922918004572872), ('sheer', 6.922918004572872), ('tedium', 6.922918004572872), ('melodrama', 6.922918004572872), ('sinking', 6.922918004572872), ('imagine', 6.922918004572872), ('decisions', 6.922918004572872), ('atrocious', 6.922918004572872), ('stinks', 6.922918004572872), ('trouble', 6.922918004572872), ('impossible', 6.922918004572872), ('establish', 6.922918004572872), ('follows', 6.922918004572872), ('band', 6.922918004572872), ('latter', 6.922918004572872), ('mansonites', 6.922918004572872), ('reporter', 6.922918004572872), ('anniversary', 6.922918004572872), ('killings', 6.922918004572872), ('spoil', 6.922918004572872), ('indication', 6.922918004572872), ('meld', 6.922918004572872), ('volatile', 6.922918004572872), ('temperaments', 6.922918004572872), ('seamless', 6.922918004572872), ('union', 6.922918004572872), ('creativity', 6.922918004572872), ('powerhouse', 6.922918004572872), ('timely', 6.922918004572872), ('fascination', 6.922918004572872), ('celebrity', 6.922918004572872), ('distorted', 6.922918004572872), ('interpretations', 6.922918004572872), ('fame', 6.922918004572872), ('forgotten', 6.922918004572872), ('kevin', 6.922918004572872), ('spacey', 6.922918004572872), ('verbal', 6.922918004572872), ('tsunami', 6.922918004572872), ('buddy', 6.922918004572872), ('ackerman', 6.922918004572872), ('scripting', 6.922918004572872), ('unmatched', 6.922918004572872), ('ages', 6.922918004572872), ('younger', 6.922918004572872), ('galley', 6.922918004572872), ('pm', 6.922918004572872), ('forwarded', 6.922918004572872), ('sucks', 6.922918004572872), ('horrendously', 6.922918004572872), ('starts', 6.922918004572872), ('build', 6.922918004572872), ('captain', 6.922918004572872), ('howdy', 6.922918004572872), ('says', 6.922918004572872), ('semi', 6.922918004572872), ('truck', 6.922918004572872), ('linda', 6.922918004572872), ('cardellini', 6.922918004572872), ('poised', 6.922918004572872), ('dee', 6.922918004572872), ('snider', 6.922918004572872), ('villains', 6.922918004572872), ('damn', 6.922918004572872), ('suck', 6.922918004572872), ('tries', 6.922918004572872), ('sophisticated', 6.922918004572872), ('miserably', 6.922918004572872), ('unoriginal', 6.922918004572872), ('cinematic', 6.922918004572872), ('captured', 6.922918004572872), ('celluloid', 6.922918004572872), ('stayed', 6.922918004572872), ('supernatural', 6.922918004572872), ('consistent', 6.922918004572872), ('thread', 6.922918004572872), ('holding', 6.922918004572872), ('leni', 6.922918004572872), ('parker', 6.922918004572872), ('anita', 6.922918004572872), ('laselva', 6.922918004572872), ('taelons', 6.922918004572872), ('quiet', 6.922918004572872), ('idealogical', 6.922918004572872), ('mainly', 6.922918004572872), ('centers', 6.922918004572872), ('atmosphere', 6.922918004572872), ('puppet', 6.922918004572872), ('flicks', 6.922918004572872), ('explains', 6.922918004572872), ('sinister', 6.922918004572872), ('origins', 6.922918004572872), ('f', 6.922918004572872), ('x', 6.922918004572872), ('insomniacs', 6.922918004572872), ('heartwarming', 6.922918004572872), ('chasing', 6.922918004572872), ('nurse', 6.922918004572872), ('unpredictability', 6.922918004572872), ('labute', 6.922918004572872), ('brutal', 6.922918004572872), ('violence', 6.922918004572872), ('seperate', 6.922918004572872), ('otherwise', 6.922918004572872), ('sorry', 6.922918004572872), ('secondary', 6.922918004572872), ('incomprehensible', 6.922918004572872), ('relation', 6.922918004572872), ('primary', 6.922918004572872), ('mystifying', 6.922918004572872), ('shelves', 6.922918004572872), ('doubt', 6.922918004572872), ('warn', 6.922918004572872), ('dumbest', 6.922918004572872), ('hbo', 6.922918004572872), ('realize', 6.922918004572872), ('hopefully', 6.922918004572872), ('cox', 6.922918004572872), ('feature', 6.922918004572872), ('win', 6.922918004572872), ('agree', 6.922918004572872), ('jessica', 6.922918004572872), ('dimensional', 6.922918004572872), ('guys', 6.922918004572872), ('elaborately', 6.922918004572872), ('aesthetically', 6.922918004572872), ('sculpture', 6.922918004572872), ('soap', 6.922918004572872), ('operas', 6.922918004572872), ('hip', 6.922918004572872), ('pray', 6.922918004572872), ('hype', 6.922918004572872), ('charismatic', 6.922918004572872), ('paolo', 6.922918004572872), ('sorrentino', 6.922918004572872), ('tony', 6.922918004572872), ('built', 6.922918004572872), ('unforgettable', 6.922918004572872), ('titta', 6.922918004572872), ('di', 6.922918004572872), ('girolamo', 6.922918004572872), ('vision', 6.922918004572872), ('estevez', 6.922918004572872), ('debut', 6.922918004572872), ('development', 6.922918004572872), ('suggest', 6.922918004572872), ('street', 6.922918004572872), ('charlie', 6.922918004572872), ('kathy', 6.922918004572872), ('bates', 6.922918004572872), ('desperation', 6.922918004572872), ('escapism', 6.922918004572872), ('variation', 6.922918004572872), ('fields', 6.922918004572872), ('readers', 6.922918004572872), ('worthwhile', 6.922918004572872), ('condescends', 6.922918004572872), ('hearts', 6.922918004572872), ('arts', 6.922918004572872), ('daughters', 6.922918004572872), ('paint', 6.922918004572872), ('photograph', 6.922918004572872), ('poignant', 6.922918004572872), ('realized', 6.922918004572872), ('closed', 6.922918004572872), ('alert', 6.922918004572872), ('decipher', 6.922918004572872), ('meanings', 6.922918004572872), ('matrix', 6.922918004572872), ('sequels', 6.922918004572872), ('mindblowing', 6.922918004572872), ('dream', 6.922918004572872), ('rickman', 6.922918004572872), ('stowe', 6.922918004572872), ('hilt', 6.922918004572872), ('childrens', 6.922918004572872), ('subversive', 6.922918004572872), ('tract', 6.922918004572872), ('gloriously', 6.922918004572872), ('fairly', 6.922918004572872), ('accurate', 6.922918004572872), ('raver', 6.922918004572872), ('idyllic', 6.922918004572872), ('downs', 6.922918004572872), ('groove', 6.922918004572872), ('antithesis', 6.922918004572872), ('traffic', 6.922918004572872), ('crowe', 6.922918004572872), ('picked', 6.922918004572872), ('government', 6.922918004572872), ('scientist', 6.922918004572872), ('argued', 6.922918004572872), ('humanity', 6.922918004572872), ('reasons', 6.922918004572872), ('gadget', 6.922918004572872), ('dwight', 6.922918004572872), ('schultz', 6.922918004572872), ('sincere', 6.922918004572872), ('critical', 6.922918004572872), ('gorman', 6.922918004572872), ('bechard', 6.922918004572872), ('homework', 6.922918004572872), ('appropriate', 6.922918004572872), ('captures', 6.922918004572872), ('essence', 6.922918004572872), ('track', 6.922918004572872), ('commands', 6.922918004572872), ('contributing', 6.922918004572872), ('threshold', 6.922918004572872), ('hayao', 6.922918004572872), ('latest', 6.922918004572872), ('eighth', 6.922918004572872), ('ghibili', 6.922918004572872), ('gake', 6.922918004572872), ('ue', 6.922918004572872), ('ponyo', 6.922918004572872), ('cliff', 6.922918004572872), ('dominated', 6.922918004572872), ('disney', 6.922918004572872), ('pixar', 6.922918004572872), ('cgi', 6.922918004572872), ('refreshing', 6.922918004572872), ('comforting', 6.922918004572872), ('relying', 6.922918004572872), ('traditional', 6.922918004572872), ('drawn', 6.922918004572872), ('enchanting', 6.922918004572872), ('remarkable', 6.922918004572872), ('crayon', 6.922918004572872), ('pencil', 6.922918004572872), ('drawings', 6.922918004572872), ('colorful', 6.922918004572872), ('fanciful', 6.922918004572872), ('drift', 6.922918004572872), ('wants', 6.922918004572872), ('surf', 6.922918004572872), ('wave', 6.922918004572872), ('deep', 6.922918004572872), ('impact', 6.922918004572872), ('armageddon', 6.922918004572872), ('everywhere', 6.922918004572872), ('choked', 6.922918004572872), ('worthless', 6.922918004572872), ('vessel', 6.922918004572872), ('taken', 6.922918004572872), ('mighty', 6.922918004572872), ('frost', 6.922918004572872), ('added', 6.922918004572872), ('bonuses', 6.922918004572872), ('fest', 6.922918004572872), ('spoiled', 6.922918004572872), ('brat', 6.922918004572872), ('babysitting', 6.922918004572872), ('sundays', 6.922918004572872), ('march', 6.922918004572872), ('judith', 6.922918004572872), ('favorite', 6.922918004572872), ('sad', 6.922918004572872), ('cutie', 6.922918004572872), ('confidence', 6.922918004572872), ('riot', 6.922918004572872), ('hugo', 6.922918004572872), ('weaving', 6.922918004572872), ('sex', 6.922918004572872), ('obsessed', 6.922918004572872), ('gay', 6.922918004572872), ('estate', 6.922918004572872), ('salesman', 6.922918004572872), ('clients', 6.922918004572872), ('houses', 6.922918004572872), ('trysts', 6.922918004572872), ('flaming', 6.922918004572872), ('darren', 6.922918004572872), ('hollander', 6.922918004572872), ('anyway', 6.922918004572872), ('flowed', 6.922918004572872), ('smoothly', 6.922918004572872), ('bonding', 6.922918004572872), ('hoot', 6.922918004572872), ('cat', 6.922918004572872), ('n', 6.922918004572872), ('faster', 6.922918004572872), ('jessice', 6.922918004572872), ('clothes', 6.922918004572872), ('virtue', 6.922918004572872), ('regrettable', 6.922918004572872), ('exceptionally', 6.922918004572872), ('flat', 6.517452896464707), ('walked', 6.517452896464707), ('angles', 6.517452896464707), ('became', 6.517452896464707), ('keeps', 6.517452896464707), ('running', 6.517452896464707), ('charm', 6.517452896464707), ('empty', 6.517452896464707), ('jimmy', 6.517452896464707), ('appealing', 6.517452896464707), ('case', 6.517452896464707), ('clearly', 6.517452896464707), ('review', 6.517452896464707), ('sisters', 6.517452896464707), ('terms', 6.517452896464707), ('aspect', 6.517452896464707), ('masterpiece', 6.517452896464707), ('masterpieces', 6.517452896464707), ('important', 6.517452896464707), ('ask', 6.517452896464707), ('form', 6.517452896464707), ('imaginable', 6.517452896464707), ('significant', 6.517452896464707), ('pieces', 6.517452896464707), ('create', 6.517452896464707), ('deserves', 6.517452896464707), ('levels', 6.517452896464707), ('canada', 6.517452896464707), ('buy', 6.517452896464707), ('sequel', 6.517452896464707), ('rated', 6.517452896464707), ('interested', 6.517452896464707), ('unfunny', 6.517452896464707), ('joke', 6.517452896464707), ('morgan', 6.517452896464707), ('jonah', 6.517452896464707), ('lazy', 6.517452896464707), ('presence', 6.517452896464707), ('cost', 6.517452896464707), ('despite', 6.517452896464707), ('lesser', 6.517452896464707), ('french', 6.517452896464707), ('fall', 6.517452896464707), ('cause', 6.517452896464707), ('regret', 6.517452896464707), ('front', 6.517452896464707), ('whiny', 6.517452896464707), ('future', 6.517452896464707), ('reading', 6.517452896464707), ('voice', 6.517452896464707), ('warmth', 6.517452896464707), ('twice', 6.517452896464707), ('delivering', 6.517452896464707), ('unpredictable', 6.517452896464707), ('badly', 6.517452896464707), ('g', 6.517452896464707), ('parents', 6.517452896464707), ('alexander', 6.517452896464707), ('artist', 6.517452896464707), ('gonna', 6.517452896464707), ('business', 6.517452896464707), ('needed', 6.517452896464707), ('mouth', 6.517452896464707), ('run', 6.517452896464707), ('superbly', 6.517452896464707), ('turned', 6.517452896464707), ('b', 6.517452896464707), ('list', 6.517452896464707), ('problem', 6.517452896464707), ('heaven', 6.517452896464707), ('lives', 6.517452896464707), ('church', 6.517452896464707), ('uplifting', 6.517452896464707), ('frankly', 6.517452896464707), ('lane', 6.517452896464707), ('extremely', 6.517452896464707), ('chick', 6.517452896464707), ('disappointing', 6.517452896464707), ('lousy', 6.517452896464707), ('bring', 6.517452896464707), ('fresh', 6.517452896464707), ('bold', 6.517452896464707), ('helps', 6.517452896464707), ('idiot', 6.517452896464707), ('occupied', 6.517452896464707), ('instead', 6.517452896464707), ('accused', 6.517452896464707), ('edge', 6.517452896464707), ('somewhat', 6.517452896464707), ('afraid', 6.517452896464707), ('advise', 6.517452896464707), ('tremendously', 6.517452896464707), ('sandra', 6.517452896464707), ('bullock', 6.517452896464707), ('supposedly', 6.517452896464707), ('several', 6.517452896464707), ('moments', 6.517452896464707), ('need', 6.517452896464707), ('friends', 6.517452896464707), ('disappointment', 6.517452896464707), ('cannot', 6.517452896464707), ('stand', 6.517452896464707), ('losing', 6.517452896464707), ('putting', 6.517452896464707), ('ratings', 6.517452896464707), ('dramatic', 6.517452896464707), ('tension', 6.517452896464707), ('central', 6.517452896464707), ('themes', 6.517452896464707), ('handled', 6.517452896464707), ('pictures', 6.517452896464707), ('flawed', 6.517452896464707), ('core', 6.517452896464707), ('following', 6.517452896464707), ('bunch', 6.517452896464707), ('high', 6.517452896464707), ('hell', 6.517452896464707), ('viewing', 6.517452896464707), ('disaster', 6.517452896464707), ('paid', 6.517452896464707), ('quinn', 6.517452896464707), ('crazy', 6.517452896464707), ('hate', 6.517452896464707), ('yeah', 6.517452896464707), ('girlfriend', 6.517452896464707), ('disliked', 6.517452896464707), ('five', 6.517452896464707), ('mad', 6.517452896464707), ('cardboard', 6.517452896464707), ('stereotypes', 6.517452896464707), ('predictably', 6.517452896464707), ('crafted', 6.517452896464707), ('depressing', 6.517452896464707), ('racism', 6.517452896464707), ('took', 6.517452896464707), ('redeeming', 6.517452896464707), ('appalling', 6.517452896464707), ('setting', 6.517452896464707), ('charisma', 6.517452896464707), ('explanation', 6.517452896464707), ('era', 6.517452896464707), ('wanted', 6.517452896464707), ('missed', 6.517452896464707), ('step', 6.517452896464707), ('freedom', 6.517452896464707), ('received', 6.517452896464707), ('industry', 6.517452896464707), ('noteworthy', 6.517452896464707), ('blood', 6.517452896464707), ('jamie', 6.517452896464707), ('ray', 6.517452896464707), ('charles', 6.517452896464707), ('genius', 6.517452896464707), ('daughter', 6.517452896464707), ('material', 6.517452896464707), ('goes', 6.517452896464707), ('hence', 6.517452896464707), ('machine', 6.517452896464707), ('flaws', 6.517452896464707), ('mishima', 6.517452896464707), ('uninteresting', 6.517452896464707), ('working', 6.517452896464707), ('culture', 6.517452896464707), ('attention', 6.517452896464707), ('schrader', 6.517452896464707), ('dancing', 6.517452896464707), ('recently', 6.517452896464707), ('contained', 6.517452896464707), ('realistic', 6.517452896464707), ('lacked', 6.517452896464707), ('talent', 6.517452896464707), ('chance', 6.517452896464707), ('might', 6.517452896464707), ('theme', 6.517452896464707), ('thrilled', 6.517452896464707), ('senses', 6.517452896464707), ('deeply', 6.517452896464707), ('june', 6.517452896464707), ('plain', 6.517452896464707), ('considering', 6.517452896464707), ('stunning', 6.517452896464707), ('fx', 6.517452896464707), ('offers', 6.517452896464707), ('matter', 6.517452896464707), ('noir', 6.517452896464707), ('complex', 6.517452896464707), ('psychological', 6.517452896464707), ('journey', 6.517452896464707), ('soul', 6.517452896464707), ('gripping', 6.517452896464707), ('location', 6.517452896464707), ('control', 6.517452896464707), ('disturbing', 6.517452896464707), ('jerky', 6.517452896464707), ('sick', 6.517452896464707), ('summary', 6.517452896464707), ('witty', 6.517452896464707), ('ceases', 6.517452896464707), ('visually', 6.517452896464707), ('spoiler', 6.517452896464707), ('remaining', 6.517452896464707), ('suffering', 6.517452896464707), ('smile', 6.517452896464707), ('literally', 6.517452896464707), ('coppola', 6.517452896464707), ('unfolds', 6.517452896464707), ('leaves', 6.517452896464707), ('room', 6.517452896464707), ('contrast', 6.517452896464707), ('sublime', 6.517452896464707), ('offensive', 6.517452896464707), ('poetry', 6.517452896464707), ('reviewer', 6.517452896464707), ('masterful', 6.517452896464707), ('sense', 6.517452896464707), ('pitiful', 6.517452896464707), ('nature', 6.517452896464707), ('female', 6.517452896464707), ('nuts', 6.517452896464707), ('dangerous', 6.517452896464707), ('reactions', 6.517452896464707), ('twist', 6.517452896464707), ('shed', 6.517452896464707), ('forget', 6.517452896464707), ('underneath', 6.517452896464707), ('call', 6.517452896464707), ('stage', 6.517452896464707), ('laugh', 6.517452896464707), ('de', 6.517452896464707), ('cute', 6.517452896464707), ('guy', 6.517452896464707), ('taped', 6.517452896464707), ('likes', 6.517452896464707), ('wholesome', 6.517452896464707), ('ways', 6.517452896464707), ('portraying', 6.517452896464707), ('pleased', 6.517452896464707), ('modern', 6.517452896464707), ('taking', 6.517452896464707), ('towards', 6.517452896464707), ('attempts', 6.517452896464707), ('supposed', 6.517452896464707), ('light', 6.517452896464707), ('situation', 6.517452896464707), ('leave', 6.517452896464707), ('bear', 6.517452896464707), ('kinda', 6.517452896464707), ('question', 6.517452896464707), ('lucy', 6.517452896464707), ('wonder', 6.517452896464707), ('america', 6.517452896464707), ('composition', 6.517452896464707), ('brian', 6.517452896464707), ('son', 6.517452896464707), ('member', 6.517452896464707), ('identify', 6.517452896464707), ('connery', 6.517452896464707), ('steve', 6.517452896464707), ('ruthless', 6.517452896464707), ('robert', 6.517452896464707), ('murdered', 6.517452896464707), ('humour', 6.517452896464707), ('mother', 6.517452896464707), ('type', 6.517452896464707), ('impressed', 6.517452896464707), ('hollywood', 6.517452896464707), ('undoubtedly', 6.517452896464707), ('popular', 6.517452896464707), ('plenty', 6.517452896464707), ('european', 6.517452896464707), ('explain', 6.517452896464707), ('dogs', 6.517452896464707), ('american', 6.517452896464707), ('americans', 6.517452896464707), ('return', 6.517452896464707), ('continuity', 6.517452896464707), ('directorial', 6.517452896464707), ('proud', 6.517452896464707), ('sand', 6.517452896464707), ('player', 6.517452896464707), ('nut', 6.517452896464707), ('sake', 6.517452896464707), ('jobs', 6.517452896464707), ('weird', 6.517452896464707), ('glance', 6.517452896464707), ('hated', 6.517452896464707), ('odd', 6.517452896464707), ('wooden', 6.517452896464707), ('fox', 6.517452896464707), ('unrecognizable', 6.517452896464707), ('relations', 6.517452896464707), ('taylor', 6.517452896464707), ('surprising', 6.517452896464707), ('entirely', 6.517452896464707), ('fat', 6.517452896464707), ('cheesy', 6.517452896464707), ('poorly', 6.517452896464707), ('proceedings', 6.517452896464707), ('remotely', 6.517452896464707), ('mercy', 6.517452896464707), ('killing', 6.517452896464707), ('overacting', 6.517452896464707), ('hackneyed', 6.517452896464707), ('balanced', 6.517452896464707), ('ago', 6.517452896464707), ('opened', 6.517452896464707), ('length', 6.517452896464707), ('air', 6.517452896464707), ('store', 6.517452896464707), ('loads', 6.517452896464707), ('creates', 6.517452896464707), ('fascinating', 6.517452896464707), ('humorous', 6.517452896464707), ('filmed', 6.517452896464707), ('ten', 6.517452896464707), ('thoughts', 6.517452896464707), ('dislike', 6.517452896464707), ('began', 6.517452896464707), ('change', 6.517452896464707), ('season', 6.517452896464707), ('contains', 6.517452896464707), ('reality', 6.517452896464707), ('pull', 6.517452896464707), ('century', 6.517452896464707), ('implausible', 6.517452896464707), ('jean', 6.517452896464707), ('turns', 6.517452896464707), ('studio', 6.517452896464707), ('start', 6.517452896464707), ('martin', 6.517452896464707), ('betty', 6.517452896464707), ('racial', 6.517452896464707), ('aside', 6.517452896464707), ('mouse', 6.517452896464707), ('hear', 6.517452896464707), ('crowd', 6.517452896464707), ('pleaser', 6.517452896464707), ('imaginative', 6.517452896464707), ('among', 6.517452896464707), ('killer', 6.517452896464707), ('terribly', 6.517452896464707), ('deserving', 6.517452896464707), ('shame', 6.517452896464707), ('credit', 6.517452896464707), ('watchable', 6.517452896464707), ('dumb', 6.517452896464707), ('zombie', 6.517452896464707), ('weak', 6.517452896464707), ('lighting', 6.517452896464707), ('notable', 6.517452896464707), ('past', 6.517452896464707), ('opening', 6.517452896464707), ('sequence', 6.517452896464707), ('sum', 6.517452896464707), ('par', 6.517452896464707), ('balance', 6.517452896464707), ('asleep', 6.517452896464707), ('cartoons', 6.517452896464707), ('none', 6.517452896464707), ('dark', 6.517452896464707), ('deserved', 6.517452896464707), ('element', 6.517452896464707), ('painful', 6.517452896464707), ('volcano', 6.517452896464707), ('los', 6.517452896464707), ('angeles', 6.517452896464707), ('bother', 6.517452896464707), ('abysmal', 6.517452896464707), ('vomit', 6.517452896464707), ('dedication', 6.517452896464707), ('focus', 6.517452896464707), ('underlying', 6.517452896464707), ('exquisite', 6.517452896464707), ('home', 6.517452896464707), ('relationships', 6.517452896464707), ('engaging', 6.517452896464707), ('christmas', 6.517452896464707), ('errol', 6.517452896464707), ('flynn', 6.517452896464707), ('known', 6.517452896464707), ('dull', 6.517452896464707), ('surrounding', 6.517452896464707), ('excellently', 6.517452896464707), ('sci', 6.517452896464707), ('fi', 6.517452896464707), ('delight', 6.517452896464707), ('revealing', 6.517452896464707), ('africa', 6.517452896464707), ('process', 6.517452896464707), ('macbeth', 6.517452896464707), ('brief', 6.517452896464707), ('moral', 6.517452896464707), ('decay', 6.517452896464707), ('forces', 6.517452896464707), ('evil', 6.517452896464707), ('adaptation', 6.517452896464707), ('beautifully', 6.517452896464707), ('mini', 6.517452896464707), ('overly', 6.517452896464707), ('hands', 6.517452896464707), ('documentaries', 6.517452896464707), ('watkins', 6.517452896464707), ('peter', 6.517452896464707), ('hollow', 6.517452896464707), ('computer', 6.517452896464707), ('begin', 6.517452896464707), ('ass', 6.517452896464707), ('wall', 6.517452896464707), ('heard', 6.517452896464707), ('cole', 6.517452896464707), ('describe', 6.517452896464707), ('eye', 6.517452896464707), ('sleep', 6.517452896464707), ('achievement', 6.517452896464707), ('issues', 6.517452896464707), ('earth', 6.517452896464707), ('emily', 6.517452896464707), ('watson', 6.517452896464707), ('takes', 6.517452896464707), ('hand', 6.517452896464707), ('compelling', 6.517452896464707), ('sentiment', 6.517452896464707), ('fulci', 6.517452896464707), ('genre', 6.517452896464707), ('italian', 6.517452896464707), ('impressive', 6.517452896464707), ('stay', 6.517452896464707), ('emotions', 6.517452896464707), ('mark', 6.517452896464707), ('result', 6.517452896464707), ('slightest', 6.517452896464707), ('duet', 6.517452896464707), ('doctor', 6.517452896464707), ('scary', 6.517452896464707), ('courtroom', 6.517452896464707), ('discovering', 6.517452896464707), ('understated', 6.517452896464707), ('video', 6.517452896464707), ('basically', 6.517452896464707), ('male', 6.517452896464707), ('neil', 6.517452896464707), ('dead', 6.517452896464707), ('exceptional', 6.517452896464707), ('childhood', 6.517452896464707), ('write', 6.517452896464707), ('lord', 6.517452896464707), ('references', 6.517452896464707), ('act', 6.517452896464707), ('pacing', 6.517452896464707), ('puppets', 6.517452896464707), ('previous', 6.517452896464707), ('dreams', 6.517452896464707), ('uses', 6.517452896464707), ('speed', 6.517452896464707), ('loneliness', 6.517452896464707), ('emilio', 6.517452896464707), ('interplay', 6.517452896464707), ('natural', 6.517452896464707), ('depicts', 6.517452896464707), ('animation', 6.517452896464707), ('lange', 6.517452896464707), ('sure', 6.229770824012927), ('speak', 6.229770824012927), ('song', 6.229770824012927), ('head', 6.229770824012927), ('meaning', 6.229770824012927), ('hours', 6.229770824012927), ('showed', 6.229770824012927), ('delivers', 6.229770824012927), ('average', 6.229770824012927), ('main', 6.229770824012927), ('greatest', 6.229770824012927), ('gem', 6.229770824012927), ('sea', 6.229770824012927), ('faux', 6.229770824012927), ('easily', 6.229770824012927), ('minute', 6.229770824012927), ('words', 6.229770824012927), ('yes', 6.229770824012927), ('picture', 6.229770824012927), ('game', 6.229770824012927), ('pure', 6.229770824012927), ('brilliance', 6.229770824012927), ('complete', 6.229770824012927), ('moment', 6.229770824012927), ('told', 6.229770824012927), ('talented', 6.229770824012927), ('stars', 6.229770824012927), ('hill', 6.229770824012927), ('ed', 6.229770824012927), ('quality', 6.229770824012927), ('obviously', 6.229770824012927), ('glad', 6.229770824012927), ('addition', 6.229770824012927), ('grace', 6.229770824012927), ('hard', 6.229770824012927), ('negative', 6.229770824012927), ('pointless', 6.229770824012927), ('anne', 6.229770824012927), ('children', 6.229770824012927), ('whether', 6.229770824012927), ('follow', 6.229770824012927), ('dialog', 6.229770824012927), ('pretentious', 6.229770824012927), ('shots', 6.229770824012927), ('given', 6.229770824012927), ('provoking', 6.229770824012927), ('plus', 6.229770824012927), ('paced', 6.229770824012927), ('wind', 6.229770824012927), ('lion', 6.229770824012927), ('acted', 6.229770824012927), ('decent', 6.229770824012927), ('checking', 6.229770824012927), ('touching', 6.229770824012927), ('looking', 6.229770824012927), ('including', 6.229770824012927), ('try', 6.229770824012927), ('embarrassing', 6.229770824012927), ('scenery', 6.229770824012927), ('house', 6.229770824012927), ('wish', 6.229770824012927), ('along', 6.229770824012927), ('happened', 6.229770824012927), ('seems', 6.229770824012927), ('mature', 6.229770824012927), ('episode', 6.229770824012927), ('remake', 6.229770824012927), ('fear', 6.229770824012927), ('nobody', 6.229770824012927), ('conflict', 6.229770824012927), ('incredibly', 6.229770824012927), ('possible', 6.229770824012927), ('whatsoever', 6.229770824012927), ('sucked', 6.229770824012927), ('cartoon', 6.229770824012927), ('paul', 6.229770824012927), ('women', 6.229770824012927), ('brain', 6.229770824012927), ('left', 6.229770824012927), ('features', 6.229770824012927), ('presents', 6.229770824012927), ('free', 6.229770824012927), ('silent', 6.229770824012927), ('screenwriter', 6.229770824012927), ('close', 6.229770824012927), ('seemed', 6.229770824012927), ('indulgent', 6.229770824012927), ('spent', 6.229770824012927), ('remember', 6.229770824012927), ('hitchcock', 6.229770824012927), ('thriller', 6.229770824012927), ('living', 6.229770824012927), ('singing', 6.229770824012927), ('etc', 6.229770824012927), ('bore', 6.229770824012927), ('dvd', 6.229770824012927), ('aerial', 6.229770824012927), ('interest', 6.229770824012927), ('narrative', 6.229770824012927), ('actress', 6.229770824012927), ('called', 6.229770824012927), ('spoilers', 6.229770824012927), ('note', 6.229770824012927), ('either', 6.229770824012927), ('surprisingly', 6.229770824012927), ('released', 6.229770824012927), ('ranks', 6.229770824012927), ('thoroughly', 6.229770824012927), ('turn', 6.229770824012927), ('memories', 6.229770824012927), ('places', 6.229770824012927), ('billy', 6.229770824012927), ('possibly', 6.229770824012927), ('favourite', 6.229770824012927), ('awesome', 6.229770824012927), ('earlier', 6.229770824012927), ('directed', 6.229770824012927), ('someone', 6.229770824012927), ('games', 6.229770824012927), ('genuine', 6.229770824012927), ('smart', 6.229770824012927), ('particular', 6.229770824012927), ('next', 6.229770824012927), ('super', 6.229770824012927), ('wonderfully', 6.229770824012927), ('actresses', 6.229770824012927), ('exactly', 6.229770824012927), ('shows', 6.229770824012927), ('drive', 6.229770824012927), ('scared', 6.229770824012927), ('drago', 6.229770824012927), ('enjoyable', 6.229770824012927), ('bought', 6.229770824012927), ('effective', 6.229770824012927), ('set', 6.229770824012927), ('learn', 6.229770824012927), ('values', 6.229770824012927), ('photography', 6.229770824012927), ('huston', 6.229770824012927), ('although', 6.229770824012927), ('war', 6.229770824012927), ('example', 6.229770824012927), ('feel', 6.229770824012927), ('seriously', 6.229770824012927), ('ready', 6.229770824012927), ('fan', 6.229770824012927), ('coming', 6.229770824012927), ('charming', 6.229770824012927), ('clich', 6.229770824012927), ('thrown', 6.229770824012927), ('reason', 6.229770824012927), ('scale', 6.229770824012927), ('score', 6.229770824012927), ('frightening', 6.229770824012927), ('oscar', 6.229770824012927), ('knew', 6.229770824012927), ('stanwyck', 6.229770824012927), ('lots', 6.229770824012927), ('space', 6.229770824012927), ('footage', 6.229770824012927), ('may', 6.229770824012927), ('course', 6.229770824012927), ('perfectly', 6.229770824012927), ('finally', 6.229770824012927), ('share', 6.229770824012927), ('rate', 6.229770824012927), ('sort', 6.229770824012927), ('conclusion', 6.229770824012927), ('heart', 6.229770824012927), ('race', 6.229770824012927), ('appearance', 6.229770824012927), ('looks', 6.229770824012927), ('happen', 6.229770824012927), ('final', 6.229770824012927), ('unconvincing', 6.229770824012927), ('produced', 6.229770824012927), ('early', 6.229770824012927), ('documentary', 6.229770824012927), ('year', 6.229770824012927), ('due', 6.229770824012927), ('recent', 6.229770824012927), ('nonsense', 6.229770824012927), ('costs', 6.229770824012927), ('fantastic', 6.229770824012927), ('south', 6.229770824012927), ('plays', 6.229770824012927), ('wilkinson', 6.229770824012927), ('thinking', 6.229770824012927), ('laughable', 6.229770824012927), ('wrong', 6.229770824012927), ('giallo', 6.229770824012927), ('sub', 6.229770824012927), ('ability', 6.229770824012927), ('appreciate', 6.229770824012927), ('easy', 6.229770824012927), ('writer', 6.229770824012927), ('miyazaki', 6.229770824012927), ('moving', 6.006627272698717), ('young', 6.006627272698717), ('lost', 6.006627272698717), ('non', 6.006627272698717), ('trying', 6.006627272698717), ('rest', 6.006627272698717), ('today', 6.006627272698717), ('adorable', 6.006627272698717), ('songs', 6.006627272698717), ('consider', 6.006627272698717), ('tale', 6.006627272698717), ('true', 6.006627272698717), ('something', 6.006627272698717), ('level', 6.006627272698717), ('idea', 6.006627272698717), ('mediocre', 6.006627272698717), ('point', 6.006627272698717), ('perhaps', 6.006627272698717), ('lovely', 6.006627272698717), ('performances', 6.006627272698717), ('utterly', 6.006627272698717), ('convincing', 6.006627272698717), ('book', 6.006627272698717), ('often', 6.006627272698717), ('energy', 6.006627272698717), ('generally', 6.006627272698717), ('terrific', 6.006627272698717), ('occasionally', 6.006627272698717), ('hour', 6.006627272698717), ('back', 6.006627272698717), ('maybe', 6.006627272698717), ('sometimes', 6.006627272698717), ('chemistry', 6.006627272698717), ('last', 6.006627272698717), ('unfortunately', 6.006627272698717), ('direction', 6.006627272698717), ('depth', 6.006627272698717), ('imagination', 6.006627272698717), ('barely', 6.006627272698717), ('cult', 6.006627272698717), ('storyline', 6.006627272698717), ('keep', 6.006627272698717), ('already', 6.006627272698717), ('attempt', 6.006627272698717), ('mean', 6.006627272698717), ('us', 6.006627272698717), ('without', 6.006627272698717), ('torture', 6.006627272698717), ('premise', 6.006627272698717), ('seem', 6.006627272698717), ('ups', 6.006627272698717), ('age', 6.006627272698717), ('incredible', 6.006627272698717), ('usual', 6.006627272698717), ('else', 6.006627272698717), ('completely', 6.006627272698717), ('holes', 6.006627272698717), ('pathetic', 6.006627272698717), ('tell', 6.006627272698717), ('master', 6.006627272698717), ('visual', 6.006627272698717), ('soundtrack', 6.006627272698717), ('trash', 6.006627272698717), ('came', 6.006627272698717), ('said', 6.006627272698717), ('less', 6.006627272698717), ('hope', 6.006627272698717), ('eyes', 6.006627272698717), ('indeed', 6.006627272698717), ('theater', 6.006627272698717), ('rating', 6.006627272698717), ('huge', 6.006627272698717), ('intelligence', 6.006627272698717), ('intelligent', 6.006627272698717), ('entertaining', 6.006627272698717), ('bored', 6.006627272698717), ('become', 6.006627272698717), ('roles', 6.006627272698717), ('looked', 6.006627272698717), ('god', 6.006627272698717), ('parts', 6.006627272698717), ('sets', 6.006627272698717), ('stories', 6.006627272698717), ('cover', 6.006627272698717), ('created', 6.006627272698717), ('role', 6.006627272698717), ('comes', 6.006627272698717), ('place', 6.006627272698717), ('star', 6.006627272698717), ('always', 6.006627272698717), ('problems', 6.006627272698717), ('period', 6.006627272698717), ('insult', 6.006627272698717), ('death', 6.006627272698717), ('expect', 6.006627272698717), ('serious', 6.006627272698717), ('mickey', 6.006627272698717), ('original', 6.006627272698717), ('james', 6.006627272698717), ('unbelievable', 6.006627272698717), ('small', 6.006627272698717), ('dance', 6.006627272698717), ('beginning', 6.006627272698717), ('fast', 6.006627272698717), ('audience', 5.824305715904762), ('clever', 5.824305715904762), ('ridiculous', 5.824305715904762), ('lacks', 5.824305715904762), ('works', 5.824305715904762), ('guess', 5.824305715904762), ('wasted', 5.824305715904762), ('bit', 5.824305715904762), ('face', 5.824305715904762), ('low', 5.824305715904762), ('since', 5.824305715904762), ('single', 5.824305715904762), ('put', 5.824305715904762), ('production', 5.824305715904762), ('editing', 5.824305715904762), ('mind', 5.824305715904762), ('amount', 5.824305715904762), ('strong', 5.824305715904762), ('money', 5.824305715904762), ('crap', 5.824305715904762), ('fun', 5.824305715904762), ('enjoy', 5.824305715904762), ('flick', 5.824305715904762), ('lame', 5.824305715904762), ('away', 5.824305715904762), ('another', 5.824305715904762), ('let', 5.824305715904762), ('tom', 5.824305715904762), ('gives', 5.824305715904762), ('word', 5.824305715904762), ('overall', 5.824305715904762), ('gave', 5.824305715904762), ('joy', 5.824305715904762), ('oh', 5.824305715904762), ('night', 5.824305715904762), ('world', 5.824305715904762), ('times', 5.824305715904762), ('horrible', 5.824305715904762), ('beyond', 5.824305715904762), ('lead', 5.824305715904762), ('john', 5.824305715904762), ('new', 5.824305715904762), ('full', 5.824305715904762), ('talk', 5.824305715904762), ('care', 5.824305715904762), ('fails', 5.824305715904762), ('yet', 5.824305715904762), ('fans', 5.824305715904762), ('solid', 5.824305715904762), ('felt', 5.824305715904762), ('child', 5.824305715904762), ('day', 5.824305715904762), ('started', 5.824305715904762), ('shot', 5.824305715904762), ('mention', 5.824305715904762), ('around', 5.824305715904762), ('different', 5.824305715904762), ('involved', 5.824305715904762), ('particularly', 5.824305715904762), ('come', 5.824305715904762), ('superb', 5.824305715904762), ('fine', 5.824305715904762), ('avoid', 5.824305715904762), ('slow', 5.670155036077504), ('half', 5.670155036077504), ('disappointed', 5.670155036077504), ('poor', 5.670155036077504), ('casting', 5.670155036077504), ('hilarious', 5.670155036077504), ('making', 5.670155036077504), ('perfect', 5.670155036077504), ('history', 5.670155036077504), ('rather', 5.670155036077504), ('take', 5.670155036077504), ('entire', 5.670155036077504), ('whatever', 5.670155036077504), ('believable', 5.670155036077504), ('portrayal', 5.670155036077504), ('annoying', 5.670155036077504), ('want', 5.670155036077504), ('amazing', 5.670155036077504), ('classic', 5.670155036077504), ('nice', 5.670155036077504), ('brilliant', 5.670155036077504), ('rent', 5.670155036077504), ('experience', 5.670155036077504), ('self', 5.670155036077504), ('sound', 5.670155036077504), ('mostly', 5.670155036077504), ('whole', 5.670155036077504), ('done', 5.670155036077504), ('use', 5.670155036077504), ('subtle', 5.670155036077504), ('old', 5.670155036077504), ('human', 5.670155036077504), ('memorable', 5.670155036077504), ('gets', 5.670155036077504), ('throughout', 5.670155036077504), ('second', 5.670155036077504), ('style', 5.670155036077504), ('recommended', 5.670155036077504), ('lines', 5.536623643452981), ('lot', 5.536623643452981), ('cool', 5.536623643452981), ('budget', 5.536623643452981), ('cinema', 5.536623643452981), ('together', 5.536623643452981), ('certainly', 5.536623643452981), ('far', 5.536623643452981), ('family', 5.536623643452981), ('least', 5.536623643452981), ('written', 5.536623643452981), ('girl', 5.536623643452981), ('line', 5.536623643452981), ('tv', 5.536623643452981), ('found', 5.536623643452981), ('playing', 5.536623643452981), ('must', 5.536623643452981), ('probably', 5.536623643452981), ('action', 5.536623643452981), ('used', 5.536623643452981), ('cheap', 5.536623643452981), ('seeing', 5.536623643452981), ('top', 5.536623643452981), ('garbage', 5.536623643452981), ('comedy', 5.536623643452981), ('mess', 5.536623643452981), ('white', 5.418840607796598), ('anything', 5.418840607796598), ('kids', 5.418840607796598), ('long', 5.418840607796598), ('directing', 5.418840607796598), ('simply', 5.418840607796598), ('series', 5.418840607796598), ('kind', 5.418840607796598), ('effects', 5.418840607796598), ('enjoyed', 5.418840607796598), ('feeling', 5.418840607796598), ('suspense', 5.418840607796598), ('especially', 5.418840607796598), ('horror', 5.418840607796598), ('fact', 5.418840607796598), ('believe', 5.418840607796598), ('watched', 5.418840607796598), ('truly', 5.418840607796598), ('minutes', 5.418840607796598), ('got', 5.418840607796598), ('drama', 5.418840607796598), ('everyone', 5.418840607796598), ('special', 5.418840607796598), ('makes', 5.418840607796598), ('black', 5.3134800921387715), ('almost', 5.3134800921387715), ('two', 5.3134800921387715), ('loved', 5.3134800921387715), ('cinematography', 5.3134800921387715), ('quite', 5.3134800921387715), ('play', 5.3134800921387715), ('screen', 5.3134800921387715), ('actor', 5.3134800921387715), ('absolutely', 5.3134800921387715), ('liked', 5.3134800921387715), ('definitely', 5.3134800921387715), ('boring', 5.3134800921387715), ('director', 5.3134800921387715), ('understand', 5.3134800921387715), ('highly', 5.3134800921387715), ('job', 5.3134800921387715), ('camera', 5.218169912334447), ('find', 5.218169912334447), ('art', 5.218169912334447), ('predictable', 5.218169912334447), ('enough', 5.218169912334447), ('beautiful', 5.218169912334447), ('actually', 5.218169912334447), ('give', 5.218169912334447), ('worst', 5.218169912334447), ('piece', 5.218169912334447), ('big', 5.218169912334447), ('first', 5.218169912334447), ('going', 5.218169912334447), ('played', 5.218169912334447), ('however', 5.218169912334447), ('terrible', 5.218169912334447), ('worse', 5.218169912334447), ('man', 5.131158535344817), ('scene', 5.131158535344817), ('short', 5.131158535344817), ('part', 5.131158535344817), ('say', 5.131158535344817), ('dialogue', 5.131158535344817), ('though', 5.131158535344817), ('interesting', 5.131158535344817), ('nothing', 5.131158535344817), ('ending', 5.131158535344817), ('thing', 5.131158535344817), ('end', 5.131158535344817), ('saw', 5.05111582767128), ('thought', 5.05111582767128), ('right', 5.05111582767128), ('everything', 5.05111582767128), ('go', 5.05111582767128), ('life', 5.05111582767128), ('recommend', 5.05111582767128), ('totally', 5.05111582767128), ('things', 5.05111582767128), ('years', 5.05111582767128), ('get', 5.05111582767128), ('performance', 5.05111582767128), ('waste', 4.9770078555175585), ('people', 4.9770078555175585), ('excellent', 4.9770078555175585), ('worth', 4.9770078555175585), ('writing', 4.9770078555175585), ('pretty', 4.9770078555175585), ('stupid', 4.9770078555175585), ('awful', 4.9770078555175585), ('music', 4.908014984030608), ('know', 4.908014984030608), ('still', 4.908014984030608), ('many', 4.908014984030608), ('every', 4.843476462893037), ('anyone', 4.843476462893037), ('funny', 4.782851841076601), ('better', 4.782851841076601), ('scenes', 4.782851841076601), ('show', 4.782851841076601), ('little', 4.725693427236653), ('much', 4.725693427236653), ('watch', 4.725693427236653), ('never', 4.725693427236653), ('think', 4.671626205966376), ('films', 4.671626205966376), ('make', 4.671626205966376), ('work', 4.671626205966376), ('cast', 4.671626205966376), ('actors', 4.671626205966376), ('script', 4.671626205966376), ('watching', 4.671626205966376), ('wonderful', 4.671626205966376), ('look', 4.620332911578826), ('best', 4.571542747409394), ('love', 4.571542747409394), ('character', 4.571542747409394), ('story', 4.571542747409394), ('real', 4.571542747409394), ('way', 4.525022731774501), ('made', 4.480570969203668), ('ever', 4.480570969203668), ('seen', 4.480570969203668), ('movies', 4.480570969203668), ('also', 4.397189360264616), ('could', 4.397189360264616), ('plot', 4.357968647111335), ('no', 4.357968647111335), ('would', 4.283860674957613), ('great', 4.182077980647671), ('characters', 4.150329282333091), ('well', 4.119557623666337), ('really', 4.089704660516656), ('even', 4.0325462466767075), ('see', 4.0325462466767075), ('like', 4.005147272488593), ('acting', 3.9784790254064317), ('time', 3.9525035390031706), ('good', 3.7874237886437223), ('bad', 3.627081138568543), ('one', 3.573013917298267), ('not', 2.897566313837723), ('film', 2.771878098674226), ('movie', 2.7182253851819063)])\n"
     ]
    }
   ],
   "source": [
    "print('IDF values of the given word : ', end='')\n",
    "print(idf)"
   ]
  },
  {
   "cell_type": "code",
   "execution_count": 27,
   "metadata": {
    "id": "Q_C38aFG05uW"
   },
   "outputs": [],
   "source": [
    "# https://stackoverflow.com/questions/9919604/efficiently-calculate-word-frequency-in-a-string\n",
    "# https://docs.scipy.org/doc/scipy-0.19.0/reference/generated/scipy.sparse.csr_matrix.html\n",
    "\n",
    "def transform(dataset,vocab,idf):\n",
    "    rows = []\n",
    "    columns = []\n",
    "    values = []\n",
    "    if isinstance(dataset, (list,)):\n",
    "        for idx, row in enumerate(tqdm(dataset)): # for each document in the dataset\n",
    "            # it will return a dict type object where key is the word and values is its frequency, {word:frequency}\n",
    "            word_freq = dict(Counter(row.split()))\n",
    "            # for every unique word in the document\n",
    "            for word, freq in word_freq.items():  # for each unique word in the review.                \n",
    "                if len(word) < 2:\n",
    "                    continue\n",
    "                # we will check if its there in the vocabulary that we build in fit() function\n",
    "                # dict.get() function will return the values, if the key doesn't exits it will return -1\n",
    "                col_index = vocab.get(word, -1) # retreving the dimension number of a word\n",
    "                # if the word exists\n",
    "                if col_index !=-1:\n",
    "                    # we are storing the index of the document\n",
    "                    rows.append(idx)\n",
    "                    # we are storing the dimensions of the word\n",
    "                    columns.append(col_index)\n",
    "                    # we are storing the frequency of the word\n",
    "                    try:\n",
    "                      tf=(freq/len(row.split()))\n",
    "                      #df=1+math.log((1+len_dataset)/(1+idf_word[word]))\n",
    "                      values.append(tf*idf[word])\n",
    "                    except:\n",
    "                      pass  \n",
    "        return  csr_matrix((values, (rows,columns)), shape=(len(dataset),len(vocab)))\n",
    "    else:\n",
    "        print(\"you need to pass list of strings\")"
   ]
  },
  {
   "cell_type": "code",
   "execution_count": 28,
   "metadata": {
    "id": "4gkl7-i3PPnm"
   },
   "outputs": [],
   "source": [
    "vocab,idf = fit(corpus)"
   ]
  },
  {
   "cell_type": "code",
   "execution_count": 29,
   "metadata": {
    "colab": {
     "base_uri": "https://localhost:8080/"
    },
    "id": "q5TQvqck08Jd",
    "outputId": "8068e5cc-2511-43ce-d120-2f8dad01f8b6"
   },
   "outputs": [
    {
     "name": "stderr",
     "output_type": "stream",
     "text": [
      "100%|██████████| 746/746 [00:00<00:00, 62632.88it/s]\n"
     ]
    }
   ],
   "source": [
    "a=transform(corpus, vocab,idf)"
   ]
  },
  {
   "cell_type": "code",
   "execution_count": 30,
   "metadata": {
    "colab": {
     "base_uri": "https://localhost:8080/"
    },
    "id": "aOZJE98Z-G5E",
    "outputId": "053306e2-38ea-45a9-f4fe-7791c13990aa"
   },
   "outputs": [
    {
     "data": {
      "text/plain": [
       "(746, 50)"
      ]
     },
     "execution_count": 30,
     "metadata": {},
     "output_type": "execute_result"
    }
   ],
   "source": [
    "#output shape\n",
    "a.shape"
   ]
  },
  {
   "cell_type": "code",
   "execution_count": 31,
   "metadata": {
    "colab": {
     "base_uri": "https://localhost:8080/"
    },
    "id": "7g5YmeZsPXdX",
    "outputId": "c674a79d-8169-42cd-ce92-ec13e008af99"
   },
   "outputs": [
    {
     "name": "stdout",
     "output_type": "stream",
     "text": [
      "  (0, 0)\t0.865364750571609\n",
      "  (0, 1)\t0.865364750571609\n",
      "  (0, 2)\t0.865364750571609\n",
      "  (1, 3)\t0.7692131116192079\n",
      "  (2, 4)\t0.36436410550383536\n",
      "  (2, 5)\t0.36436410550383536\n",
      "  (2, 6)\t0.36436410550383536\n",
      "  (4, 7)\t0.6922918004572872\n",
      "  (5, 8)\t0.6922918004572872\n",
      "  (7, 9)\t0.7692131116192079\n",
      "  (7, 10)\t0.7692131116192079\n",
      "  (9, 11)\t1.153819667428812\n",
      "  (9, 12)\t1.153819667428812\n",
      "  (9, 13)\t1.153819667428812\n",
      "  (10, 14)\t2.307639334857624\n",
      "  (10, 15)\t2.307639334857624\n",
      "  (11, 16)\t0.865364750571609\n",
      "  (12, 17)\t1.730729501143218\n",
      "  (15, 18)\t0.865364750571609\n",
      "  (16, 19)\t0.5325321541979132\n",
      "  (17, 20)\t0.49449414318377655\n",
      "  (17, 21)\t0.49449414318377655\n",
      "  (18, 22)\t0.9889882863675531\n",
      "  (19, 23)\t0.015769744885131828\n",
      "  (19, 24)\t0.015769744885131828\n",
      "  (19, 25)\t0.015769744885131828\n",
      "  (19, 26)\t0.015769744885131828\n",
      "  (19, 27)\t0.015769744885131828\n",
      "  (19, 28)\t0.015769744885131828\n",
      "  (19, 29)\t0.015769744885131828\n",
      "  (19, 30)\t0.015769744885131828\n",
      "  (19, 31)\t0.015769744885131828\n",
      "  (19, 32)\t0.015769744885131828\n",
      "  (19, 33)\t0.015769744885131828\n",
      "  (19, 34)\t0.015769744885131828\n",
      "  (19, 35)\t0.015769744885131828\n",
      "  (19, 36)\t0.031539489770263655\n",
      "  (19, 37)\t0.015769744885131828\n",
      "  (19, 38)\t0.015769744885131828\n",
      "  (19, 39)\t0.04730923465539548\n",
      "  (19, 40)\t0.015769744885131828\n",
      "  (19, 41)\t0.015769744885131828\n",
      "  (19, 42)\t0.015769744885131828\n",
      "  (19, 43)\t0.04730923465539548\n",
      "  (19, 44)\t0.015769744885131828\n",
      "  (19, 45)\t0.015769744885131828\n",
      "  (19, 46)\t0.015769744885131828\n",
      "  (19, 47)\t0.015769744885131828\n",
      "  (19, 48)\t0.015769744885131828\n",
      "  (19, 49)\t0.015769744885131828\n"
     ]
    }
   ],
   "source": [
    "#sparse format of output\n",
    "print(a)"
   ]
  },
  {
   "cell_type": "code",
   "execution_count": 32,
   "metadata": {
    "colab": {
     "base_uri": "https://localhost:8080/"
    },
    "id": "raGUcjf5Pc4f",
    "outputId": "6c9d1190-296d-490b-9d3b-899dd68f5249"
   },
   "outputs": [
    {
     "data": {
      "text/plain": [
       "array([[0.86536475, 0.86536475, 0.86536475, ..., 0.        , 0.        ,\n",
       "        0.        ],\n",
       "       [0.        , 0.        , 0.        , ..., 0.        , 0.        ,\n",
       "        0.        ],\n",
       "       [0.        , 0.        , 0.        , ..., 0.        , 0.        ,\n",
       "        0.        ],\n",
       "       ...,\n",
       "       [0.        , 0.        , 0.        , ..., 0.        , 0.        ,\n",
       "        0.        ],\n",
       "       [0.        , 0.        , 0.        , ..., 0.        , 0.        ,\n",
       "        0.        ],\n",
       "       [0.        , 0.        , 0.        , ..., 0.        , 0.        ,\n",
       "        0.        ]])"
      ]
     },
     "execution_count": 32,
     "metadata": {},
     "output_type": "execute_result"
    }
   ],
   "source": [
    "#tfidf matrix of given data\n",
    "a.toarray()"
   ]
  }
 ],
 "metadata": {
  "colab": {
   "collapsed_sections": [],
   "name": "Copy of Assignment_3_Instructions.ipynb",
   "provenance": []
  },
  "kernelspec": {
   "display_name": "Python 3 (ipykernel)",
   "language": "python",
   "name": "python3"
  },
  "language_info": {
   "codemirror_mode": {
    "name": "ipython",
    "version": 3
   },
   "file_extension": ".py",
   "mimetype": "text/x-python",
   "name": "python",
   "nbconvert_exporter": "python",
   "pygments_lexer": "ipython3",
   "version": "3.10.4"
  }
 },
 "nbformat": 4,
 "nbformat_minor": 1
}
