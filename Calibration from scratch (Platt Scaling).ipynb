{
 "cells": [
  {
   "cell_type": "code",
   "execution_count": 88,
   "metadata": {
    "execution": {
     "iopub.execute_input": "2022-07-23T08:14:45.722006Z",
     "iopub.status.busy": "2022-07-23T08:14:45.721480Z",
     "iopub.status.idle": "2022-07-23T08:14:45.726320Z",
     "shell.execute_reply": "2022-07-23T08:14:45.725666Z",
     "shell.execute_reply.started": "2022-07-23T08:14:45.721977Z"
    },
    "id": "fCgMNEvI4Zxf",
    "tags": []
   },
   "outputs": [],
   "source": [
    "import numpy as np\n",
    "import pandas as pd\n",
    "from sklearn.datasets import make_classification\n",
    "import numpy as np\n",
    "from sklearn.svm import SVC\n",
    "from tqdm.notebook import tqdm\n",
    "import matplotlib.pyplot as plt\n",
    "import math "
   ]
  },
  {
   "cell_type": "markdown",
   "metadata": {},
   "source": [
    "### Creating Data set"
   ]
  },
  {
   "cell_type": "code",
   "execution_count": 89,
   "metadata": {
    "execution": {
     "iopub.execute_input": "2022-07-23T08:14:45.998740Z",
     "iopub.status.busy": "2022-07-23T08:14:45.998223Z",
     "iopub.status.idle": "2022-07-23T08:14:46.003818Z",
     "shell.execute_reply": "2022-07-23T08:14:46.003149Z",
     "shell.execute_reply.started": "2022-07-23T08:14:45.998714Z"
    },
    "id": "ANUNIqCe4Zxn",
    "tags": []
   },
   "outputs": [],
   "source": [
    "X, y = make_classification(n_samples=5000, n_features=5, n_redundant=2,\n",
    "                           n_classes=2, weights=[0.7], class_sep=0.7, random_state=15)"
   ]
  },
  {
   "cell_type": "code",
   "execution_count": 90,
   "metadata": {
    "execution": {
     "iopub.execute_input": "2022-07-23T08:14:47.067823Z",
     "iopub.status.busy": "2022-07-23T08:14:47.067330Z",
     "iopub.status.idle": "2022-07-23T08:14:47.072613Z",
     "shell.execute_reply": "2022-07-23T08:14:47.071965Z",
     "shell.execute_reply.started": "2022-07-23T08:14:47.067795Z"
    },
    "tags": []
   },
   "outputs": [],
   "source": [
    "from sklearn.model_selection import train_test_split"
   ]
  },
  {
   "cell_type": "code",
   "execution_count": 91,
   "metadata": {
    "execution": {
     "iopub.execute_input": "2022-07-23T08:14:47.250547Z",
     "iopub.status.busy": "2022-07-23T08:14:47.250376Z",
     "iopub.status.idle": "2022-07-23T08:14:47.258927Z",
     "shell.execute_reply": "2022-07-23T08:14:47.258280Z",
     "shell.execute_reply.started": "2022-07-23T08:14:47.250528Z"
    },
    "tags": []
   },
   "outputs": [],
   "source": [
    "X_train1,X_test,y_train1,y_test=train_test_split(X,y,stratify=y,random_state=1,train_size=0.8) \n",
    "X_train,X_cv,y_train,y_cv=train_test_split(X_train1,y_train1,stratify=y_train1,train_size=0.8,random_state=1)"
   ]
  },
  {
   "cell_type": "code",
   "execution_count": 92,
   "metadata": {
    "execution": {
     "iopub.execute_input": "2022-07-23T08:14:47.429014Z",
     "iopub.status.busy": "2022-07-23T08:14:47.428508Z",
     "iopub.status.idle": "2022-07-23T08:14:47.433716Z",
     "shell.execute_reply": "2022-07-23T08:14:47.432299Z",
     "shell.execute_reply.started": "2022-07-23T08:14:47.428990Z"
    },
    "id": "ZXadRJcN39YZ",
    "tags": []
   },
   "outputs": [],
   "source": [
    "clf = SVC(gamma=0.001, C=100)"
   ]
  },
  {
   "cell_type": "code",
   "execution_count": 93,
   "metadata": {
    "colab": {
     "base_uri": "https://localhost:8080/"
    },
    "execution": {
     "iopub.execute_input": "2022-07-23T08:14:47.607609Z",
     "iopub.status.busy": "2022-07-23T08:14:47.607438Z",
     "iopub.status.idle": "2022-07-23T08:14:47.703399Z",
     "shell.execute_reply": "2022-07-23T08:14:47.702695Z",
     "shell.execute_reply.started": "2022-07-23T08:14:47.607588Z"
    },
    "id": "Y02FYJkh39gl",
    "outputId": "52bff8d9-caad-4b07-dacb-05826bd13b81",
    "tags": []
   },
   "outputs": [
    {
     "data": {
      "text/plain": [
       "SVC(C=100, gamma=0.001)"
      ]
     },
     "execution_count": 93,
     "metadata": {},
     "output_type": "execute_result"
    }
   ],
   "source": [
    "clf.fit(X_train,y_train)"
   ]
  },
  {
   "cell_type": "code",
   "execution_count": 94,
   "metadata": {
    "execution": {
     "iopub.execute_input": "2022-07-23T08:14:47.804777Z",
     "iopub.status.busy": "2022-07-23T08:14:47.804186Z",
     "iopub.status.idle": "2022-07-23T08:14:47.808210Z",
     "shell.execute_reply": "2022-07-23T08:14:47.807551Z",
     "shell.execute_reply.started": "2022-07-23T08:14:47.804751Z"
    },
    "id": "Z2LTHQF9kPae",
    "tags": []
   },
   "outputs": [],
   "source": [
    "support=clf.support_vectors_\n",
    "aiyi=clf.dual_coef_\n",
    "intercept=clf.intercept_"
   ]
  },
  {
   "cell_type": "code",
   "execution_count": 95,
   "metadata": {
    "execution": {
     "iopub.execute_input": "2022-07-23T08:14:47.967188Z",
     "iopub.status.busy": "2022-07-23T08:14:47.966799Z",
     "iopub.status.idle": "2022-07-23T08:14:47.972647Z",
     "shell.execute_reply": "2022-07-23T08:14:47.971979Z",
     "shell.execute_reply.started": "2022-07-23T08:14:47.967165Z"
    },
    "id": "G-QIjjvow0uZ",
    "tags": []
   },
   "outputs": [],
   "source": [
    "def decision_function(support,aiyi,intercept,xq,sigma): \n",
    "  yy1=[]\n",
    "  for j in tqdm(xq):\n",
    "    yy=0\n",
    "    for i in range(len(support)):\n",
    "      yy+=aiyi[0][i]*np.exp(-0.001*sum((j-support[i])**2))\n",
    "    yy=yy+intercept\n",
    "    yy1.append(yy)\n",
    "  return np.array(yy1).reshape(1,-1)"
   ]
  },
  {
   "cell_type": "code",
   "execution_count": 96,
   "metadata": {
    "colab": {
     "base_uri": "https://localhost:8080/",
     "height": 49,
     "referenced_widgets": [
      "cb7c81a893ee4e93aaebc9b43554312b",
      "961daf9762f14039b679d8b69efcb370",
      "e70d0c8bbc1e42f885b6d67fc63d3891",
      "62dbfb6d08a0478190cda579b20a0296",
      "69134c412272440eaeec80224bf64167",
      "4e5bc66ede1e40f1b5b1add3dc7e31f6",
      "49e4c371db014f72a7ec793e6f97d214",
      "79a0a6a577394a37ae015d07ce9e50e1",
      "50e5a38e98044876b731b56ea27be69d",
      "fd449412051d49399df8b308433f8041",
      "45972036701e431294ee10b59d9b2507"
     ]
    },
    "execution": {
     "iopub.execute_input": "2022-07-23T08:14:48.163495Z",
     "iopub.status.busy": "2022-07-23T08:14:48.162816Z",
     "iopub.status.idle": "2022-07-23T08:14:50.818634Z",
     "shell.execute_reply": "2022-07-23T08:14:50.817935Z",
     "shell.execute_reply.started": "2022-07-23T08:14:48.163467Z"
    },
    "id": "NcuLgFJFijoF",
    "outputId": "37565992-b8aa-4527-894c-b34aa0f561e2",
    "tags": []
   },
   "outputs": [
    {
     "data": {
      "application/vnd.jupyter.widget-view+json": {
       "model_id": "a989e5817f90449d8bf2c9a0a3b5efb2",
       "version_major": 2,
       "version_minor": 0
      },
      "text/plain": [
       "  0%|          | 0/800 [00:00<?, ?it/s]"
      ]
     },
     "metadata": {},
     "output_type": "display_data"
    }
   ],
   "source": [
    "v=decision_function(support,aiyi,intercept,X_cv,0.001)"
   ]
  },
  {
   "cell_type": "code",
   "execution_count": 97,
   "metadata": {
    "colab": {
     "base_uri": "https://localhost:8080/"
    },
    "execution": {
     "iopub.execute_input": "2022-07-23T08:14:50.835388Z",
     "iopub.status.busy": "2022-07-23T08:14:50.835012Z",
     "iopub.status.idle": "2022-07-23T08:14:50.841619Z",
     "shell.execute_reply": "2022-07-23T08:14:50.840626Z",
     "shell.execute_reply.started": "2022-07-23T08:14:50.835364Z"
    },
    "id": "4-eBd7GlGgKe",
    "outputId": "7c35e0de-7a91-43da-bd13-bcd60a6e48f0",
    "tags": []
   },
   "outputs": [
    {
     "data": {
      "text/plain": [
       "array([-2.76146863,  1.88255985,  1.91945783, -2.20004135,  0.02981274,\n",
       "       -2.71181644, -2.86811546, -2.5712531 , -1.24294605,  2.11880867])"
      ]
     },
     "execution_count": 97,
     "metadata": {},
     "output_type": "execute_result"
    }
   ],
   "source": [
    "v[0][:10] # using decision function above"
   ]
  },
  {
   "cell_type": "code",
   "execution_count": 98,
   "metadata": {
    "colab": {
     "base_uri": "https://localhost:8080/"
    },
    "execution": {
     "iopub.execute_input": "2022-07-23T08:14:50.843050Z",
     "iopub.status.busy": "2022-07-23T08:14:50.842631Z",
     "iopub.status.idle": "2022-07-23T08:14:50.870638Z",
     "shell.execute_reply": "2022-07-23T08:14:50.869970Z",
     "shell.execute_reply.started": "2022-07-23T08:14:50.843028Z"
    },
    "id": "g7I8pN4yivI9",
    "outputId": "49d11570-6128-4b88-bbfd-940dde155e80",
    "tags": []
   },
   "outputs": [
    {
     "data": {
      "text/plain": [
       "array([-2.76146863,  1.88255985,  1.91945783, -2.20004135,  0.02981274,\n",
       "       -2.71181644, -2.86811546, -2.5712531 , -1.24294605,  2.11880867])"
      ]
     },
     "execution_count": 98,
     "metadata": {},
     "output_type": "execute_result"
    }
   ],
   "source": [
    "clf.decision_function(X_cv)[:10] #sklearn decision function "
   ]
  },
  {
   "cell_type": "markdown",
   "metadata": {
    "id": "c0bKCboN4Zxu"
   },
   "source": [
    "<h2><font color='Geen'>Implementing Platt Scaling to find P(Y==1|X)</font></h2>"
   ]
  },
  {
   "cell_type": "markdown",
   "metadata": {
    "id": "nMn7OEN94Zxw"
   },
   "source": [
    "Check this <a href='https://drive.google.com/open?id=133odBinMOIVb_rh_GQxxsyMRyW-Zts7a'>PDF</a>\n",
    "<img src='https://i.imgur.com/CAMnVnh.png'>\n"
   ]
  },
  {
   "cell_type": "code",
   "execution_count": 100,
   "metadata": {
    "execution": {
     "iopub.execute_input": "2022-07-23T08:14:50.937497Z",
     "iopub.status.busy": "2022-07-23T08:14:50.937331Z",
     "iopub.status.idle": "2022-07-23T08:14:50.941870Z",
     "shell.execute_reply": "2022-07-23T08:14:50.940803Z",
     "shell.execute_reply.started": "2022-07-23T08:14:50.937478Z"
    },
    "id": "mZVnvH-PnI7u",
    "tags": []
   },
   "outputs": [],
   "source": [
    "def log_loss(w,b,X,Y):\n",
    "  N=len(X)\n",
    "  sum_log=0\n",
    "  for i in range(N):\n",
    "    sum_log+=Y[i]*np.log10(z)+(1-Y[i]*np.log10(1-Z))\n",
    "  return -1*sum_log/N"
   ]
  },
  {
   "cell_type": "code",
   "execution_count": 101,
   "metadata": {
    "execution": {
     "iopub.execute_input": "2022-07-23T08:14:50.944190Z",
     "iopub.status.busy": "2022-07-23T08:14:50.943640Z",
     "iopub.status.idle": "2022-07-23T08:14:50.947751Z",
     "shell.execute_reply": "2022-07-23T08:14:50.947161Z",
     "shell.execute_reply.started": "2022-07-23T08:14:50.944167Z"
    },
    "id": "zTHRBaQ6yvnv",
    "tags": []
   },
   "outputs": [],
   "source": [
    "from numpy import zeros_like\n",
    "def initialize_weights(row_vector):\n",
    "    ''' In this function, we will initialize our weights and bias'''\n",
    "    w=zeros_like(row_vector)\n",
    "    b=0\n",
    "    return w,b"
   ]
  },
  {
   "cell_type": "code",
   "execution_count": 102,
   "metadata": {
    "execution": {
     "iopub.execute_input": "2022-07-23T08:14:50.948773Z",
     "iopub.status.busy": "2022-07-23T08:14:50.948581Z",
     "iopub.status.idle": "2022-07-23T08:14:50.953649Z",
     "shell.execute_reply": "2022-07-23T08:14:50.952755Z",
     "shell.execute_reply.started": "2022-07-23T08:14:50.948753Z"
    },
    "id": "pLoRQNTVHB41",
    "tags": []
   },
   "outputs": [],
   "source": [
    "from math import *\n",
    "def sigmoid(z):\n",
    "    ''' In this function, we will return sigmoid of z'''\n",
    "    return 1/(1+np.exp(-z))"
   ]
  },
  {
   "cell_type": "code",
   "execution_count": 103,
   "metadata": {
    "execution": {
     "iopub.execute_input": "2022-07-23T08:14:50.954374Z",
     "iopub.status.busy": "2022-07-23T08:14:50.954226Z",
     "iopub.status.idle": "2022-07-23T08:14:50.958553Z",
     "shell.execute_reply": "2022-07-23T08:14:50.957873Z",
     "shell.execute_reply.started": "2022-07-23T08:14:50.954356Z"
    },
    "id": "AyxSP5H-yv0C",
    "tags": []
   },
   "outputs": [],
   "source": [
    "def logloss(y_true,y_pred):\n",
    "    loss=-1*np.mean(y_true*np.log10(y_pred)+(1-y_true)*np.log10(1-y_pred))\n",
    "    return loss"
   ]
  },
  {
   "cell_type": "code",
   "execution_count": 104,
   "metadata": {
    "execution": {
     "iopub.execute_input": "2022-07-23T08:14:50.959693Z",
     "iopub.status.busy": "2022-07-23T08:14:50.959521Z",
     "iopub.status.idle": "2022-07-23T08:14:50.963453Z",
     "shell.execute_reply": "2022-07-23T08:14:50.962838Z",
     "shell.execute_reply.started": "2022-07-23T08:14:50.959673Z"
    },
    "id": "I8upBXsTHdWY",
    "tags": []
   },
   "outputs": [],
   "source": [
    "def gradient_dw(x,y,w,b,alpha,N):\n",
    "    '''In this function, we will compute the gardient w.r.to w '''\n",
    "    dw=x*(y-sigmoid(np.dot(w,x)+b))-(alpha/N)*w\n",
    "    return dw"
   ]
  },
  {
   "cell_type": "code",
   "execution_count": 105,
   "metadata": {
    "execution": {
     "iopub.execute_input": "2022-07-23T08:14:50.964397Z",
     "iopub.status.busy": "2022-07-23T08:14:50.964216Z",
     "iopub.status.idle": "2022-07-23T08:14:50.969037Z",
     "shell.execute_reply": "2022-07-23T08:14:50.967706Z",
     "shell.execute_reply.started": "2022-07-23T08:14:50.964377Z"
    },
    "id": "SUTyw3SAHdY8",
    "tags": []
   },
   "outputs": [],
   "source": [
    "def gradient_db(x,y,w,b):\n",
    "     '''In this function, we will compute gradient w.r.to b '''\n",
    "     db=y-sigmoid(np.dot(w,x)+b)\n",
    "     return db"
   ]
  },
  {
   "cell_type": "code",
   "execution_count": 106,
   "metadata": {
    "execution": {
     "iopub.execute_input": "2022-07-23T08:14:51.026146Z",
     "iopub.status.busy": "2022-07-23T08:14:51.025841Z",
     "iopub.status.idle": "2022-07-23T08:14:51.030210Z",
     "shell.execute_reply": "2022-07-23T08:14:51.029187Z",
     "shell.execute_reply.started": "2022-07-23T08:14:51.026126Z"
    },
    "id": "FxWfW47NHdbJ",
    "tags": []
   },
   "outputs": [],
   "source": [
    "def pred(w,b, X):\n",
    "    N = len(X)\n",
    "    predict = []\n",
    "    for i in range(N):\n",
    "        z=np.dot(w,X[i])+b\n",
    "        predict.append(sigmoid(z))\n",
    "    return np.array(predict)"
   ]
  },
  {
   "cell_type": "code",
   "execution_count": 107,
   "metadata": {
    "execution": {
     "iopub.execute_input": "2022-07-23T08:14:51.158278Z",
     "iopub.status.busy": "2022-07-23T08:14:51.157740Z",
     "iopub.status.idle": "2022-07-23T08:14:51.164354Z",
     "shell.execute_reply": "2022-07-23T08:14:51.163690Z",
     "shell.execute_reply.started": "2022-07-23T08:14:51.158254Z"
    },
    "id": "-pS_IAINHoJi",
    "tags": []
   },
   "outputs": [],
   "source": [
    "def train(X_train,y_train,epochs,alpha,eta0):\n",
    "    train_loss = []\n",
    "    w,b = initialize_weights(X_train[0]) # Initialize the weights\n",
    "    #code to perform SGD\n",
    "    for i in tqdm(range(epochs)):\n",
    "        for k,j in zip(X_train,y_train):\n",
    "            dw=gradient_dw(k,j,w,b,alpha,len(X_train))\n",
    "            db=gradient_db(k,j,w,b)\n",
    "            w=w+eta0*dw\n",
    "            b=b+eta0*db\n",
    "        predicted_train=pred(w,b,X_train)\n",
    "        train_loss.append(logloss(y_train,predicted_train))\n",
    "        predicted_test=pred(w,b,X_test)\n",
    "        print(\"train loss {}\".format(train_loss[-1]))\n",
    "    return w,b,train_loss"
   ]
  },
  {
   "cell_type": "markdown",
   "metadata": {
    "id": "q6YKD_DBHoN_"
   },
   "source": [
    "### Adding Regularization for Platt's Scaling "
   ]
  },
  {
   "cell_type": "code",
   "execution_count": 108,
   "metadata": {
    "execution": {
     "iopub.execute_input": "2022-07-23T08:14:51.535174Z",
     "iopub.status.busy": "2022-07-23T08:14:51.534636Z",
     "iopub.status.idle": "2022-07-23T08:14:51.538046Z",
     "shell.execute_reply": "2022-07-23T08:14:51.537421Z",
     "shell.execute_reply.started": "2022-07-23T08:14:51.535150Z"
    },
    "id": "tYskD-i3uk-n",
    "tags": []
   },
   "outputs": [],
   "source": [
    "a=y.copy()"
   ]
  },
  {
   "cell_type": "code",
   "execution_count": 110,
   "metadata": {
    "execution": {
     "iopub.execute_input": "2022-07-23T08:14:51.858845Z",
     "iopub.status.busy": "2022-07-23T08:14:51.858300Z",
     "iopub.status.idle": "2022-07-23T08:14:51.862502Z",
     "shell.execute_reply": "2022-07-23T08:14:51.861585Z",
     "shell.execute_reply.started": "2022-07-23T08:14:51.858820Z"
    },
    "tags": []
   },
   "outputs": [],
   "source": [
    "N_negative,N_positive=np.unique(y_train,return_counts=True)[1]  #calculating Np and Nn using train data"
   ]
  },
  {
   "cell_type": "code",
   "execution_count": 111,
   "metadata": {
    "execution": {
     "iopub.execute_input": "2022-07-23T08:14:52.086980Z",
     "iopub.status.busy": "2022-07-23T08:14:52.086534Z",
     "iopub.status.idle": "2022-07-23T08:14:52.090889Z",
     "shell.execute_reply": "2022-07-23T08:14:52.089772Z",
     "shell.execute_reply.started": "2022-07-23T08:14:52.086956Z"
    },
    "tags": []
   },
   "outputs": [],
   "source": [
    "y_positive=(N_positive+1)/(N_positive+2)   #N+ \n",
    "y_negative=(1/(N_negative+2))      #N-"
   ]
  },
  {
   "cell_type": "code",
   "execution_count": 112,
   "metadata": {
    "execution": {
     "iopub.execute_input": "2022-07-23T08:14:52.586871Z",
     "iopub.status.busy": "2022-07-23T08:14:52.586253Z",
     "iopub.status.idle": "2022-07-23T08:14:52.590874Z",
     "shell.execute_reply": "2022-07-23T08:14:52.589893Z",
     "shell.execute_reply.started": "2022-07-23T08:14:52.586844Z"
    },
    "tags": []
   },
   "outputs": [],
   "source": [
    "modified_cv=y_cv\n",
    "modified_cv=modified_cv.astype(float)\n",
    "modified_cv[modified_cv==1]=y_positive\n",
    "modified_cv[modified_cv==0]=y_negative    # changing cv data to modified N+ and N-"
   ]
  },
  {
   "cell_type": "code",
   "execution_count": 124,
   "metadata": {
    "execution": {
     "iopub.execute_input": "2022-07-23T08:16:01.844422Z",
     "iopub.status.busy": "2022-07-23T08:16:01.843680Z",
     "iopub.status.idle": "2022-07-23T08:16:01.850116Z",
     "shell.execute_reply": "2022-07-23T08:16:01.849045Z",
     "shell.execute_reply.started": "2022-07-23T08:16:01.844393Z"
    },
    "tags": []
   },
   "outputs": [
    {
     "data": {
      "text/plain": [
       "array([4.47828034e-04, 9.98970134e-01, 9.98970134e-01, 4.47828034e-04,\n",
       "       4.47828034e-04, 4.47828034e-04, 4.47828034e-04, 4.47828034e-04,\n",
       "       4.47828034e-04, 9.98970134e-01])"
      ]
     },
     "execution_count": 124,
     "metadata": {},
     "output_type": "execute_result"
    }
   ],
   "source": [
    "modified_cv[:10]"
   ]
  },
  {
   "cell_type": "code",
   "execution_count": 114,
   "metadata": {
    "colab": {
     "base_uri": "https://localhost:8080/",
     "height": 1000,
     "referenced_widgets": [
      "12e9e59813e44320a2c17926c443db49",
      "f02c7e0cfc6c400d82a63e5af47aef2a",
      "f723d69783494bd6b2b607084312ccfe",
      "1450feb5f2844705bff404ed0e43107c",
      "9ddb3206b6fd4406bc18b6a54c6f4c4e",
      "a0e0173342044ab2a3853d8d850c9b9d",
      "c1e31739c5264bd3a103c6b3bb0d9af9",
      "016d7c734f914695bc8cfe1148f8aaf0",
      "a1619fee7d0c4943833b08764eb3fa38",
      "850e4c0360f34845b7e4706215ec56c0",
      "c643d54107f7411481f57c901d59d733"
     ]
    },
    "execution": {
     "iopub.execute_input": "2022-07-23T08:14:53.096028Z",
     "iopub.status.busy": "2022-07-23T08:14:53.095598Z",
     "iopub.status.idle": "2022-07-23T08:14:58.559851Z",
     "shell.execute_reply": "2022-07-23T08:14:58.559194Z",
     "shell.execute_reply.started": "2022-07-23T08:14:53.096003Z"
    },
    "id": "9NPuDaq5IMM3",
    "outputId": "f1d08f1f-0481-4592-855c-bb7a45550739",
    "tags": []
   },
   "outputs": [
    {
     "data": {
      "application/vnd.jupyter.widget-view+json": {
       "model_id": "e80c3e0339814998ab55f65d1daa6155",
       "version_major": 2,
       "version_minor": 0
      },
      "text/plain": [
       "  0%|          | 0/200 [00:00<?, ?it/s]"
      ]
     },
     "metadata": {},
     "output_type": "display_data"
    },
    {
     "name": "stdout",
     "output_type": "stream",
     "text": [
      "train loss 0.15441534166771664\n",
      "train loss 0.12008203980090792\n",
      "train loss 0.10570740292747746\n",
      "train loss 0.09795593777525308\n",
      "train loss 0.09317501913267717\n",
      "train loss 0.08997174955016331\n",
      "train loss 0.08770175458858966\n",
      "train loss 0.08602667528118041\n",
      "train loss 0.08475218710790276\n",
      "train loss 0.08375898212038604\n",
      "train loss 0.08296992493844002\n",
      "train loss 0.08233304886962994\n",
      "train loss 0.08181214749036415\n",
      "train loss 0.08138128081298003\n",
      "train loss 0.08102142116702872\n",
      "train loss 0.08071832725275643\n",
      "train loss 0.0804611528893955\n",
      "train loss 0.08024151109286219\n",
      "train loss 0.08005282913316514\n",
      "train loss 0.07988989460048351\n",
      "train loss 0.07974852986002293\n",
      "train loss 0.07962535464092174\n",
      "train loss 0.07951761027646703\n",
      "train loss 0.07942302780808182\n",
      "train loss 0.0793397277801838\n",
      "train loss 0.07926614325287397\n",
      "train loss 0.07920096004288486\n",
      "train loss 0.07914306989850832\n",
      "train loss 0.07909153348945902\n",
      "train loss 0.07904555091898197\n",
      "train loss 0.07900443805419988\n",
      "train loss 0.07896760739518716\n",
      "train loss 0.07893455251280397\n",
      "train loss 0.07890483531343018\n",
      "train loss 0.07887807555847541\n",
      "train loss 0.07885394219400713\n",
      "train loss 0.0788321461423792\n",
      "train loss 0.07881243428145399\n",
      "train loss 0.07879458439371567\n",
      "train loss 0.07877840091150883\n",
      "train loss 0.07876371131890589\n",
      "train loss 0.07875036309761088\n",
      "train loss 0.07873822112555208\n",
      "train loss 0.0787271654536922\n",
      "train loss 0.07871708940006014\n",
      "train loss 0.0787078979108263\n",
      "train loss 0.07869950614696845\n",
      "train loss 0.07869183826214789\n",
      "train loss 0.0786848263431707\n",
      "train loss 0.07867840948911646\n",
      "train loss 0.0786725330090784\n",
      "train loss 0.07866714772164289\n",
      "train loss 0.07866220934186875\n",
      "train loss 0.0786576779437118\n",
      "train loss 0.07865351748766086\n",
      "train loss 0.07864969540487196\n",
      "train loss 0.07864618223036238\n",
      "train loss 0.07864295127889838\n",
      "train loss 0.07863997835811447\n",
      "train loss 0.07863724151416579\n",
      "train loss 0.07863472080586419\n",
      "train loss 0.07863239810379871\n",
      "train loss 0.07863025691141101\n",
      "train loss 0.07862828220539748\n",
      "train loss 0.07862646029315283\n",
      "train loss 0.07862477868526514\n",
      "train loss 0.07862322598132504\n",
      "train loss 0.07862179176753126\n",
      "train loss 0.07862046652476233\n",
      "train loss 0.07861924154594804\n",
      "train loss 0.07861810886171583\n",
      "train loss 0.07861706117340982\n",
      "train loss 0.07861609179268739\n",
      "train loss 0.07861519458699152\n",
      "train loss 0.07861436393027821\n",
      "train loss 0.0786135946584495\n",
      "train loss 0.07861288202900543\n",
      "train loss 0.07861222168448205\n",
      "train loss 0.07861160961929169\n",
      "train loss 0.078611042149623\n",
      "train loss 0.07861051588609637\n",
      "train loss 0.07861002770890224\n",
      "train loss 0.07860957474518013\n",
      "train loss 0.07860915434842046\n",
      "train loss 0.078608764079695\n",
      "train loss 0.0786084016905419\n",
      "train loss 0.07860806510734834\n",
      "train loss 0.07860775241709099\n",
      "train loss 0.07860746185430746\n",
      "train loss 0.0786071917891856\n",
      "train loss 0.07860694071666811\n",
      "train loss 0.07860670724647996\n",
      "train loss 0.07860649009399574\n",
      "train loss 0.07860628807187162\n",
      "train loss 0.07860610008237359\n",
      "train loss 0.07860592511034105\n",
      "train loss 0.07860576221672938\n",
      "train loss 0.0786056105326818\n",
      "train loss 0.07860546925408368\n",
      "train loss 0.07860533763655896\n",
      "train loss 0.07860521499086977\n",
      "train loss 0.07860510067868583\n",
      "train loss 0.07860499410869184\n",
      "train loss 0.07860489473300482\n",
      "train loss 0.07860480204387515\n",
      "train loss 0.0786047155706481\n",
      "train loss 0.07860463487696409\n",
      "train loss 0.07860455955817806\n",
      "train loss 0.07860448923898017\n",
      "train loss 0.0786044235712012\n",
      "train loss 0.07860436223178809\n",
      "train loss 0.0786043049209352\n",
      "train loss 0.07860425136035971\n",
      "train loss 0.07860420129170877\n",
      "train loss 0.07860415447508848\n",
      "train loss 0.07860411068770484\n",
      "train loss 0.07860406972260772\n",
      "train loss 0.07860403138753008\n",
      "train loss 0.07860399550381461\n",
      "train loss 0.0786039619054211\n",
      "train loss 0.0786039304380085\n",
      "train loss 0.07860390095808553\n",
      "train loss 0.07860387333222454\n",
      "train loss 0.0786038474363343\n",
      "train loss 0.07860382315498635\n",
      "train loss 0.07860380038079161\n",
      "train loss 0.07860377901382284\n",
      "train loss 0.0786037589610799\n",
      "train loss 0.07860374013599408\n",
      "train loss 0.07860372245796912\n",
      "train loss 0.07860370585195563\n",
      "train loss 0.07860369024805675\n",
      "train loss 0.07860367558116256\n",
      "train loss 0.07860366179061107\n",
      "train loss 0.07860364881987385\n",
      "train loss 0.07860363661626452\n",
      "train loss 0.07860362513066828\n",
      "train loss 0.078603614317291\n",
      "train loss 0.07860360413342642\n",
      "train loss 0.07860359453924003\n",
      "train loss 0.07860358549756867\n",
      "train loss 0.07860357697373424\n",
      "train loss 0.07860356893537099\n",
      "train loss 0.07860356135226494\n",
      "train loss 0.07860355419620499\n",
      "train loss 0.07860354744084437\n",
      "train loss 0.07860354106157218\n",
      "train loss 0.07860353503539391\n",
      "train loss 0.07860352934082045\n",
      "train loss 0.07860352395776492\n",
      "train loss 0.07860351886744692\n",
      "train loss 0.07860351405230334\n",
      "train loss 0.07860350949590561\n",
      "train loss 0.07860350518288259\n",
      "train loss 0.07860350109884907\n",
      "train loss 0.07860349723033909\n",
      "train loss 0.07860349356474408\n",
      "train loss 0.07860349009025513\n",
      "train loss 0.07860348679580946\n",
      "train loss 0.07860348367104052\n",
      "train loss 0.0786034807062315\n",
      "train loss 0.0786034778922722\n",
      "train loss 0.07860347522061881\n",
      "train loss 0.07860347268325632\n",
      "train loss 0.07860347027266383\n",
      "train loss 0.07860346798178194\n",
      "train loss 0.07860346580398259\n",
      "train loss 0.07860346373304077\n",
      "train loss 0.07860346176310835\n",
      "train loss 0.07860345988868964\n",
      "train loss 0.07860345810461845\n",
      "train loss 0.07860345640603697\n",
      "train loss 0.07860345478837587\n",
      "train loss 0.07860345324733588\n",
      "train loss 0.07860345177887047\n",
      "train loss 0.0786034503791699\n",
      "train loss 0.07860344904464607\n",
      "train loss 0.07860344777191866\n",
      "train loss 0.078603446557802\n",
      "train loss 0.07860344539929287\n",
      "train loss 0.07860344429355917\n",
      "train loss 0.07860344323792921\n",
      "train loss 0.07860344222988187\n",
      "train loss 0.07860344126703732\n",
      "train loss 0.07860344034714824\n",
      "train loss 0.07860343946809185\n",
      "train loss 0.07860343862786234\n",
      "train loss 0.07860343782456365\n",
      "train loss 0.07860343705640306\n",
      "train loss 0.07860343632168477\n",
      "train loss 0.07860343561880434\n",
      "train loss 0.0786034349462431\n",
      "train loss 0.07860343430256314\n",
      "train loss 0.07860343368640257\n",
      "train loss 0.07860343309647108\n",
      "train loss 0.07860343253154571\n",
      "train loss 0.07860343199046702\n",
      "train loss 0.07860343147213537\n",
      "train loss 0.07860343097550761\n",
      "train loss 0.07860343049959369\n"
     ]
    }
   ],
   "source": [
    "alpha=0.001\n",
    "eta0=0.001\n",
    "epochs=200\n",
    "w,b,train_loss=train(v[0],modified_cv,epochs,alpha,eta0)"
   ]
  },
  {
   "cell_type": "markdown",
   "metadata": {},
   "source": [
    "### Weight and bias after training "
   ]
  },
  {
   "cell_type": "code",
   "execution_count": 115,
   "metadata": {
    "execution": {
     "iopub.execute_input": "2022-07-23T08:14:58.561155Z",
     "iopub.status.busy": "2022-07-23T08:14:58.560989Z",
     "iopub.status.idle": "2022-07-23T08:14:58.566424Z",
     "shell.execute_reply": "2022-07-23T08:14:58.565742Z",
     "shell.execute_reply.started": "2022-07-23T08:14:58.561134Z"
    },
    "tags": []
   },
   "outputs": [
    {
     "data": {
      "text/plain": [
       "(1.9175467682370924, 0.1104728252137202)"
      ]
     },
     "execution_count": 115,
     "metadata": {},
     "output_type": "execute_result"
    }
   ],
   "source": [
    "w,b"
   ]
  },
  {
   "cell_type": "code",
   "execution_count": 116,
   "metadata": {
    "execution": {
     "iopub.execute_input": "2022-07-23T08:14:58.567408Z",
     "iopub.status.busy": "2022-07-23T08:14:58.567243Z",
     "iopub.status.idle": "2022-07-23T08:14:58.680074Z",
     "shell.execute_reply": "2022-07-23T08:14:58.679337Z",
     "shell.execute_reply.started": "2022-07-23T08:14:58.567388Z"
    },
    "tags": []
   },
   "outputs": [
    {
     "data": {
      "image/png": "[encoded data removed]",
      "text/plain": [
       "<Figure size 432x288 with 1 Axes>"
      ]
     },
     "metadata": {
      "needs_background": "light"
     },
     "output_type": "display_data"
    }
   ],
   "source": [
    "plt.plot(range(epochs),train_loss,label='loss')\n",
    "plt.xlabel('epochs')\n",
    "plt.ylabel('loss')\n",
    "plt.title('Epochs VS Loss')\n",
    "plt.legend()\n",
    "plt.show()"
   ]
  },
  {
   "cell_type": "code",
   "execution_count": 117,
   "metadata": {
    "execution": {
     "iopub.execute_input": "2022-07-23T08:14:58.681981Z",
     "iopub.status.busy": "2022-07-23T08:14:58.681648Z",
     "iopub.status.idle": "2022-07-23T08:15:01.998626Z",
     "shell.execute_reply": "2022-07-23T08:15:01.997700Z",
     "shell.execute_reply.started": "2022-07-23T08:14:58.681957Z"
    },
    "tags": []
   },
   "outputs": [
    {
     "data": {
      "application/vnd.jupyter.widget-view+json": {
       "model_id": "37e1b340336043a687357ee3d5ce1740",
       "version_major": 2,
       "version_minor": 0
      },
      "text/plain": [
       "  0%|          | 0/1000 [00:00<?, ?it/s]"
      ]
     },
     "metadata": {},
     "output_type": "display_data"
    }
   ],
   "source": [
    "v_test=decision_function(support,aiyi,intercept,X_test,0.001)"
   ]
  },
  {
   "cell_type": "code",
   "execution_count": 120,
   "metadata": {
    "colab": {
     "base_uri": "https://localhost:8080/"
    },
    "execution": {
     "iopub.execute_input": "2022-07-23T08:15:02.060532Z",
     "iopub.status.busy": "2022-07-23T08:15:02.060335Z",
     "iopub.status.idle": "2022-07-23T08:15:02.371066Z",
     "shell.execute_reply": "2022-07-23T08:15:02.370475Z",
     "shell.execute_reply.started": "2022-07-23T08:15:02.060511Z"
    },
    "id": "8HZ1H-dNJ_kU",
    "outputId": "2f08863d-1f39-4d2a-c24f-0e61cde4c814",
    "tags": []
   },
   "outputs": [
    {
     "data": {
      "text/plain": [
       "CalibratedClassifierCV(base_estimator=SVC(C=100, gamma=0.001), cv=3)"
      ]
     },
     "execution_count": 120,
     "metadata": {},
     "output_type": "execute_result"
    }
   ],
   "source": [
    "from sklearn.calibration import CalibratedClassifierCV\n",
    "calibrated = CalibratedClassifierCV(clf, method='sigmoid', cv=3)\n",
    "calibrated.fit(X_train1,y_train1)"
   ]
  },
  {
   "cell_type": "markdown",
   "metadata": {},
   "source": [
    "## Comparing my result with sklearn calibration function"
   ]
  },
  {
   "cell_type": "code",
   "execution_count": 118,
   "metadata": {
    "colab": {
     "base_uri": "https://localhost:8080/"
    },
    "execution": {
     "iopub.execute_input": "2022-07-23T08:15:02.027189Z",
     "iopub.status.busy": "2022-07-23T08:15:02.026734Z",
     "iopub.status.idle": "2022-07-23T08:15:02.039400Z",
     "shell.execute_reply": "2022-07-23T08:15:02.038676Z",
     "shell.execute_reply.started": "2022-07-23T08:15:02.027164Z"
    },
    "id": "7X90Lji1ORNd",
    "outputId": "770f872d-eea5-408c-ae44-7a5a6cd55d1f",
    "tags": []
   },
   "outputs": [
    {
     "name": "stdout",
     "output_type": "stream",
     "text": [
      "Calibrated probabiliies using platt scaling from scratch : [0.00286 0.02418 0.00311 0.95563 0.00678 0.01567 0.01159 0.82448 0.19021\n",
      " 0.22484]\n"
     ]
    }
   ],
   "source": [
    "print('Calibrated probabiliies using platt scaling from scratch :',np.around(pred(w,b,v_test[0]),5)[:10])"
   ]
  },
  {
   "cell_type": "code",
   "execution_count": 121,
   "metadata": {
    "execution": {
     "iopub.execute_input": "2022-07-23T08:15:02.372464Z",
     "iopub.status.busy": "2022-07-23T08:15:02.371908Z",
     "iopub.status.idle": "2022-07-23T08:15:02.449875Z",
     "shell.execute_reply": "2022-07-23T08:15:02.449187Z",
     "shell.execute_reply.started": "2022-07-23T08:15:02.372439Z"
    },
    "tags": []
   },
   "outputs": [
    {
     "name": "stdout",
     "output_type": "stream",
     "text": [
      "Calibrated probabilies using platt scaling using sklearn : [0.00347698 0.02758417 0.00381682 0.94785131 0.0075604  0.01791978\n",
      " 0.01394319 0.81182303 0.19296722 0.22907582]\n"
     ]
    }
   ],
   "source": [
    "print('Calibrated probabilies using platt scaling using sklearn :',calibrated.predict_proba(X_test).T[1][:10])"
   ]
  }
 ],
 "metadata": {
  "colab": {
   "collapsed_sections": [],
   "name": "Copy of 8E&F_LR_SVM.ipynb",
   "provenance": []
  },
  "kernelspec": {
   "display_name": "Python 3 (ipykernel)",
   "language": "python",
   "name": "python3"
  },
  "language_info": {
   "codemirror_mode": {
    "name": "ipython",
    "version": 3
   },
   "file_extension": ".py",
   "mimetype": "text/x-python",
   "name": "python",
   "nbconvert_exporter": "python",
   "pygments_lexer": "ipython3",
   "version": "3.10.4"
  },
  "widgets": {
   "application/vnd.jupyter.widget-state+json": {
    "016d7c734f914695bc8cfe1148f8aaf0": {
     "model_module": "@jupyter-widgets/base",
     "model_module_version": "1.2.0",
     "model_name": "LayoutModel",
     "state": {
      "_model_module": "@jupyter-widgets/base",
      "_model_module_version": "1.2.0",
      "_model_name": "LayoutModel",
      "_view_count": null,
      "_view_module": "@jupyter-widgets/base",
      "_view_module_version": "1.2.0",
      "_view_name": "LayoutView",
      "align_content": null,
      "align_items": null,
      "align_self": null,
      "border": null,
      "bottom": null,
      "display": null,
      "flex": null,
      "flex_flow": null,
      "grid_area": null,
      "grid_auto_columns": null,
      "grid_auto_flow": null,
      "grid_auto_rows": null,
      "grid_column": null,
      "grid_gap": null,
      "grid_row": null,
      "grid_template_areas": null,
      "grid_template_columns": null,
      "grid_template_rows": null,
      "height": null,
      "justify_content": null,
      "justify_items": null,
      "left": null,
      "margin": null,
      "max_height": null,
      "max_width": null,
      "min_height": null,
      "min_width": null,
      "object_fit": null,
      "object_position": null,
      "order": null,
      "overflow": null,
      "overflow_x": null,
      "overflow_y": null,
      "padding": null,
      "right": null,
      "top": null,
      "visibility": null,
      "width": null
     }
    },
    "12e9e59813e44320a2c17926c443db49": {
     "model_module": "@jupyter-widgets/controls",
     "model_module_version": "1.5.0",
     "model_name": "HBoxModel",
     "state": {
      "_dom_classes": [],
      "_model_module": "@jupyter-widgets/controls",
      "_model_module_version": "1.5.0",
      "_model_name": "HBoxModel",
      "_view_count": null,
      "_view_module": "@jupyter-widgets/controls",
      "_view_module_version": "1.5.0",
      "_view_name": "HBoxView",
      "box_style": "",
      "children": [
       "IPY_MODEL_f02c7e0cfc6c400d82a63e5af47aef2a",
       "IPY_MODEL_f723d69783494bd6b2b607084312ccfe",
       "IPY_MODEL_1450feb5f2844705bff404ed0e43107c"
      ],
      "layout": "IPY_MODEL_9ddb3206b6fd4406bc18b6a54c6f4c4e"
     }
    },
    "1450feb5f2844705bff404ed0e43107c": {
     "model_module": "@jupyter-widgets/controls",
     "model_module_version": "1.5.0",
     "model_name": "HTMLModel",
     "state": {
      "_dom_classes": [],
      "_model_module": "@jupyter-widgets/controls",
      "_model_module_version": "1.5.0",
      "_model_name": "HTMLModel",
      "_view_count": null,
      "_view_module": "@jupyter-widgets/controls",
      "_view_module_version": "1.5.0",
      "_view_name": "HTMLView",
      "description": "",
      "description_tooltip": null,
      "layout": "IPY_MODEL_850e4c0360f34845b7e4706215ec56c0",
      "placeholder": "​",
      "style": "IPY_MODEL_c643d54107f7411481f57c901d59d733",
      "value": " 200/200 [00:36&lt;00:00,  5.45it/s]"
     }
    },
    "45972036701e431294ee10b59d9b2507": {
     "model_module": "@jupyter-widgets/controls",
     "model_module_version": "1.5.0",
     "model_name": "DescriptionStyleModel",
     "state": {
      "_model_module": "@jupyter-widgets/controls",
      "_model_module_version": "1.5.0",
      "_model_name": "DescriptionStyleModel",
      "_view_count": null,
      "_view_module": "@jupyter-widgets/base",
      "_view_module_version": "1.2.0",
      "_view_name": "StyleView",
      "description_width": ""
     }
    },
    "49e4c371db014f72a7ec793e6f97d214": {
     "model_module": "@jupyter-widgets/controls",
     "model_module_version": "1.5.0",
     "model_name": "DescriptionStyleModel",
     "state": {
      "_model_module": "@jupyter-widgets/controls",
      "_model_module_version": "1.5.0",
      "_model_name": "DescriptionStyleModel",
      "_view_count": null,
      "_view_module": "@jupyter-widgets/base",
      "_view_module_version": "1.2.0",
      "_view_name": "StyleView",
      "description_width": ""
     }
    },
    "4e5bc66ede1e40f1b5b1add3dc7e31f6": {
     "model_module": "@jupyter-widgets/base",
     "model_module_version": "1.2.0",
     "model_name": "LayoutModel",
     "state": {
      "_model_module": "@jupyter-widgets/base",
      "_model_module_version": "1.2.0",
      "_model_name": "LayoutModel",
      "_view_count": null,
      "_view_module": "@jupyter-widgets/base",
      "_view_module_version": "1.2.0",
      "_view_name": "LayoutView",
      "align_content": null,
      "align_items": null,
      "align_self": null,
      "border": null,
      "bottom": null,
      "display": null,
      "flex": null,
      "flex_flow": null,
      "grid_area": null,
      "grid_auto_columns": null,
      "grid_auto_flow": null,
      "grid_auto_rows": null,
      "grid_column": null,
      "grid_gap": null,
      "grid_row": null,
      "grid_template_areas": null,
      "grid_template_columns": null,
      "grid_template_rows": null,
      "height": null,
      "justify_content": null,
      "justify_items": null,
      "left": null,
      "margin": null,
      "max_height": null,
      "max_width": null,
      "min_height": null,
      "min_width": null,
      "object_fit": null,
      "object_position": null,
      "order": null,
      "overflow": null,
      "overflow_x": null,
      "overflow_y": null,
      "padding": null,
      "right": null,
      "top": null,
      "visibility": null,
      "width": null
     }
    },
    "50e5a38e98044876b731b56ea27be69d": {
     "model_module": "@jupyter-widgets/controls",
     "model_module_version": "1.5.0",
     "model_name": "ProgressStyleModel",
     "state": {
      "_model_module": "@jupyter-widgets/controls",
      "_model_module_version": "1.5.0",
      "_model_name": "ProgressStyleModel",
      "_view_count": null,
      "_view_module": "@jupyter-widgets/base",
      "_view_module_version": "1.2.0",
      "_view_name": "StyleView",
      "bar_color": null,
      "description_width": ""
     }
    },
    "62dbfb6d08a0478190cda579b20a0296": {
     "model_module": "@jupyter-widgets/controls",
     "model_module_version": "1.5.0",
     "model_name": "HTMLModel",
     "state": {
      "_dom_classes": [],
      "_model_module": "@jupyter-widgets/controls",
      "_model_module_version": "1.5.0",
      "_model_name": "HTMLModel",
      "_view_count": null,
      "_view_module": "@jupyter-widgets/controls",
      "_view_module_version": "1.5.0",
      "_view_name": "HTMLView",
      "description": "",
      "description_tooltip": null,
      "layout": "IPY_MODEL_fd449412051d49399df8b308433f8041",
      "placeholder": "​",
      "style": "IPY_MODEL_45972036701e431294ee10b59d9b2507",
      "value": " 5000/5000 [00:28&lt;00:00, 171.33it/s]"
     }
    },
    "69134c412272440eaeec80224bf64167": {
     "model_module": "@jupyter-widgets/base",
     "model_module_version": "1.2.0",
     "model_name": "LayoutModel",
     "state": {
      "_model_module": "@jupyter-widgets/base",
      "_model_module_version": "1.2.0",
      "_model_name": "LayoutModel",
      "_view_count": null,
      "_view_module": "@jupyter-widgets/base",
      "_view_module_version": "1.2.0",
      "_view_name": "LayoutView",
      "align_content": null,
      "align_items": null,
      "align_self": null,
      "border": null,
      "bottom": null,
      "display": null,
      "flex": null,
      "flex_flow": null,
      "grid_area": null,
      "grid_auto_columns": null,
      "grid_auto_flow": null,
      "grid_auto_rows": null,
      "grid_column": null,
      "grid_gap": null,
      "grid_row": null,
      "grid_template_areas": null,
      "grid_template_columns": null,
      "grid_template_rows": null,
      "height": null,
      "justify_content": null,
      "justify_items": null,
      "left": null,
      "margin": null,
      "max_height": null,
      "max_width": null,
      "min_height": null,
      "min_width": null,
      "object_fit": null,
      "object_position": null,
      "order": null,
      "overflow": null,
      "overflow_x": null,
      "overflow_y": null,
      "padding": null,
      "right": null,
      "top": null,
      "visibility": null,
      "width": null
     }
    },
    "79a0a6a577394a37ae015d07ce9e50e1": {
     "model_module": "@jupyter-widgets/base",
     "model_module_version": "1.2.0",
     "model_name": "LayoutModel",
     "state": {
      "_model_module": "@jupyter-widgets/base",
      "_model_module_version": "1.2.0",
      "_model_name": "LayoutModel",
      "_view_count": null,
      "_view_module": "@jupyter-widgets/base",
      "_view_module_version": "1.2.0",
      "_view_name": "LayoutView",
      "align_content": null,
      "align_items": null,
      "align_self": null,
      "border": null,
      "bottom": null,
      "display": null,
      "flex": null,
      "flex_flow": null,
      "grid_area": null,
      "grid_auto_columns": null,
      "grid_auto_flow": null,
      "grid_auto_rows": null,
      "grid_column": null,
      "grid_gap": null,
      "grid_row": null,
      "grid_template_areas": null,
      "grid_template_columns": null,
      "grid_template_rows": null,
      "height": null,
      "justify_content": null,
      "justify_items": null,
      "left": null,
      "margin": null,
      "max_height": null,
      "max_width": null,
      "min_height": null,
      "min_width": null,
      "object_fit": null,
      "object_position": null,
      "order": null,
      "overflow": null,
      "overflow_x": null,
      "overflow_y": null,
      "padding": null,
      "right": null,
      "top": null,
      "visibility": null,
      "width": null
     }
    },
    "850e4c0360f34845b7e4706215ec56c0": {
     "model_module": "@jupyter-widgets/base",
     "model_module_version": "1.2.0",
     "model_name": "LayoutModel",
     "state": {
      "_model_module": "@jupyter-widgets/base",
      "_model_module_version": "1.2.0",
      "_model_name": "LayoutModel",
      "_view_count": null,
      "_view_module": "@jupyter-widgets/base",
      "_view_module_version": "1.2.0",
      "_view_name": "LayoutView",
      "align_content": null,
      "align_items": null,
      "align_self": null,
      "border": null,
      "bottom": null,
      "display": null,
      "flex": null,
      "flex_flow": null,
      "grid_area": null,
      "grid_auto_columns": null,
      "grid_auto_flow": null,
      "grid_auto_rows": null,
      "grid_column": null,
      "grid_gap": null,
      "grid_row": null,
      "grid_template_areas": null,
      "grid_template_columns": null,
      "grid_template_rows": null,
      "height": null,
      "justify_content": null,
      "justify_items": null,
      "left": null,
      "margin": null,
      "max_height": null,
      "max_width": null,
      "min_height": null,
      "min_width": null,
      "object_fit": null,
      "object_position": null,
      "order": null,
      "overflow": null,
      "overflow_x": null,
      "overflow_y": null,
      "padding": null,
      "right": null,
      "top": null,
      "visibility": null,
      "width": null
     }
    },
    "961daf9762f14039b679d8b69efcb370": {
     "model_module": "@jupyter-widgets/controls",
     "model_module_version": "1.5.0",
     "model_name": "HTMLModel",
     "state": {
      "_dom_classes": [],
      "_model_module": "@jupyter-widgets/controls",
      "_model_module_version": "1.5.0",
      "_model_name": "HTMLModel",
      "_view_count": null,
      "_view_module": "@jupyter-widgets/controls",
      "_view_module_version": "1.5.0",
      "_view_name": "HTMLView",
      "description": "",
      "description_tooltip": null,
      "layout": "IPY_MODEL_4e5bc66ede1e40f1b5b1add3dc7e31f6",
      "placeholder": "​",
      "style": "IPY_MODEL_49e4c371db014f72a7ec793e6f97d214",
      "value": "100%"
     }
    },
    "9ddb3206b6fd4406bc18b6a54c6f4c4e": {
     "model_module": "@jupyter-widgets/base",
     "model_module_version": "1.2.0",
     "model_name": "LayoutModel",
     "state": {
      "_model_module": "@jupyter-widgets/base",
      "_model_module_version": "1.2.0",
      "_model_name": "LayoutModel",
      "_view_count": null,
      "_view_module": "@jupyter-widgets/base",
      "_view_module_version": "1.2.0",
      "_view_name": "LayoutView",
      "align_content": null,
      "align_items": null,
      "align_self": null,
      "border": null,
      "bottom": null,
      "display": null,
      "flex": null,
      "flex_flow": null,
      "grid_area": null,
      "grid_auto_columns": null,
      "grid_auto_flow": null,
      "grid_auto_rows": null,
      "grid_column": null,
      "grid_gap": null,
      "grid_row": null,
      "grid_template_areas": null,
      "grid_template_columns": null,
      "grid_template_rows": null,
      "height": null,
      "justify_content": null,
      "justify_items": null,
      "left": null,
      "margin": null,
      "max_height": null,
      "max_width": null,
      "min_height": null,
      "min_width": null,
      "object_fit": null,
      "object_position": null,
      "order": null,
      "overflow": null,
      "overflow_x": null,
      "overflow_y": null,
      "padding": null,
      "right": null,
      "top": null,
      "visibility": null,
      "width": null
     }
    },
    "a0e0173342044ab2a3853d8d850c9b9d": {
     "model_module": "@jupyter-widgets/base",
     "model_module_version": "1.2.0",
     "model_name": "LayoutModel",
     "state": {
      "_model_module": "@jupyter-widgets/base",
      "_model_module_version": "1.2.0",
      "_model_name": "LayoutModel",
      "_view_count": null,
      "_view_module": "@jupyter-widgets/base",
      "_view_module_version": "1.2.0",
      "_view_name": "LayoutView",
      "align_content": null,
      "align_items": null,
      "align_self": null,
      "border": null,
      "bottom": null,
      "display": null,
      "flex": null,
      "flex_flow": null,
      "grid_area": null,
      "grid_auto_columns": null,
      "grid_auto_flow": null,
      "grid_auto_rows": null,
      "grid_column": null,
      "grid_gap": null,
      "grid_row": null,
      "grid_template_areas": null,
      "grid_template_columns": null,
      "grid_template_rows": null,
      "height": null,
      "justify_content": null,
      "justify_items": null,
      "left": null,
      "margin": null,
      "max_height": null,
      "max_width": null,
      "min_height": null,
      "min_width": null,
      "object_fit": null,
      "object_position": null,
      "order": null,
      "overflow": null,
      "overflow_x": null,
      "overflow_y": null,
      "padding": null,
      "right": null,
      "top": null,
      "visibility": null,
      "width": null
     }
    },
    "a1619fee7d0c4943833b08764eb3fa38": {
     "model_module": "@jupyter-widgets/controls",
     "model_module_version": "1.5.0",
     "model_name": "ProgressStyleModel",
     "state": {
      "_model_module": "@jupyter-widgets/controls",
      "_model_module_version": "1.5.0",
      "_model_name": "ProgressStyleModel",
      "_view_count": null,
      "_view_module": "@jupyter-widgets/base",
      "_view_module_version": "1.2.0",
      "_view_name": "StyleView",
      "bar_color": null,
      "description_width": ""
     }
    },
    "c1e31739c5264bd3a103c6b3bb0d9af9": {
     "model_module": "@jupyter-widgets/controls",
     "model_module_version": "1.5.0",
     "model_name": "DescriptionStyleModel",
     "state": {
      "_model_module": "@jupyter-widgets/controls",
      "_model_module_version": "1.5.0",
      "_model_name": "DescriptionStyleModel",
      "_view_count": null,
      "_view_module": "@jupyter-widgets/base",
      "_view_module_version": "1.2.0",
      "_view_name": "StyleView",
      "description_width": ""
     }
    },
    "c643d54107f7411481f57c901d59d733": {
     "model_module": "@jupyter-widgets/controls",
     "model_module_version": "1.5.0",
     "model_name": "DescriptionStyleModel",
     "state": {
      "_model_module": "@jupyter-widgets/controls",
      "_model_module_version": "1.5.0",
      "_model_name": "DescriptionStyleModel",
      "_view_count": null,
      "_view_module": "@jupyter-widgets/base",
      "_view_module_version": "1.2.0",
      "_view_name": "StyleView",
      "description_width": ""
     }
    },
    "cb7c81a893ee4e93aaebc9b43554312b": {
     "model_module": "@jupyter-widgets/controls",
     "model_module_version": "1.5.0",
     "model_name": "HBoxModel",
     "state": {
      "_dom_classes": [],
      "_model_module": "@jupyter-widgets/controls",
      "_model_module_version": "1.5.0",
      "_model_name": "HBoxModel",
      "_view_count": null,
      "_view_module": "@jupyter-widgets/controls",
      "_view_module_version": "1.5.0",
      "_view_name": "HBoxView",
      "box_style": "",
      "children": [
       "IPY_MODEL_961daf9762f14039b679d8b69efcb370",
       "IPY_MODEL_e70d0c8bbc1e42f885b6d67fc63d3891",
       "IPY_MODEL_62dbfb6d08a0478190cda579b20a0296"
      ],
      "layout": "IPY_MODEL_69134c412272440eaeec80224bf64167"
     }
    },
    "e70d0c8bbc1e42f885b6d67fc63d3891": {
     "model_module": "@jupyter-widgets/controls",
     "model_module_version": "1.5.0",
     "model_name": "FloatProgressModel",
     "state": {
      "_dom_classes": [],
      "_model_module": "@jupyter-widgets/controls",
      "_model_module_version": "1.5.0",
      "_model_name": "FloatProgressModel",
      "_view_count": null,
      "_view_module": "@jupyter-widgets/controls",
      "_view_module_version": "1.5.0",
      "_view_name": "ProgressView",
      "bar_style": "success",
      "description": "",
      "description_tooltip": null,
      "layout": "IPY_MODEL_79a0a6a577394a37ae015d07ce9e50e1",
      "max": 5000,
      "min": 0,
      "orientation": "horizontal",
      "style": "IPY_MODEL_50e5a38e98044876b731b56ea27be69d",
      "value": 5000
     }
    },
    "f02c7e0cfc6c400d82a63e5af47aef2a": {
     "model_module": "@jupyter-widgets/controls",
     "model_module_version": "1.5.0",
     "model_name": "HTMLModel",
     "state": {
      "_dom_classes": [],
      "_model_module": "@jupyter-widgets/controls",
      "_model_module_version": "1.5.0",
      "_model_name": "HTMLModel",
      "_view_count": null,
      "_view_module": "@jupyter-widgets/controls",
      "_view_module_version": "1.5.0",
      "_view_name": "HTMLView",
      "description": "",
      "description_tooltip": null,
      "layout": "IPY_MODEL_a0e0173342044ab2a3853d8d850c9b9d",
      "placeholder": "​",
      "style": "IPY_MODEL_c1e31739c5264bd3a103c6b3bb0d9af9",
      "value": "100%"
     }
    },
    "f723d69783494bd6b2b607084312ccfe": {
     "model_module": "@jupyter-widgets/controls",
     "model_module_version": "1.5.0",
     "model_name": "FloatProgressModel",
     "state": {
      "_dom_classes": [],
      "_model_module": "@jupyter-widgets/controls",
      "_model_module_version": "1.5.0",
      "_model_name": "FloatProgressModel",
      "_view_count": null,
      "_view_module": "@jupyter-widgets/controls",
      "_view_module_version": "1.5.0",
      "_view_name": "ProgressView",
      "bar_style": "success",
      "description": "",
      "description_tooltip": null,
      "layout": "IPY_MODEL_016d7c734f914695bc8cfe1148f8aaf0",
      "max": 200,
      "min": 0,
      "orientation": "horizontal",
      "style": "IPY_MODEL_a1619fee7d0c4943833b08764eb3fa38",
      "value": 200
     }
    },
    "fd449412051d49399df8b308433f8041": {
     "model_module": "@jupyter-widgets/base",
     "model_module_version": "1.2.0",
     "model_name": "LayoutModel",
     "state": {
      "_model_module": "@jupyter-widgets/base",
      "_model_module_version": "1.2.0",
      "_model_name": "LayoutModel",
      "_view_count": null,
      "_view_module": "@jupyter-widgets/base",
      "_view_module_version": "1.2.0",
      "_view_name": "LayoutView",
      "align_content": null,
      "align_items": null,
      "align_self": null,
      "border": null,
      "bottom": null,
      "display": null,
      "flex": null,
      "flex_flow": null,
      "grid_area": null,
      "grid_auto_columns": null,
      "grid_auto_flow": null,
      "grid_auto_rows": null,
      "grid_column": null,
      "grid_gap": null,
      "grid_row": null,
      "grid_template_areas": null,
      "grid_template_columns": null,
      "grid_template_rows": null,
      "height": null,
      "justify_content": null,
      "justify_items": null,
      "left": null,
      "margin": null,
      "max_height": null,
      "max_width": null,
      "min_height": null,
      "min_width": null,
      "object_fit": null,
      "object_position": null,
      "order": null,
      "overflow": null,
      "overflow_x": null,
      "overflow_y": null,
      "padding": null,
      "right": null,
      "top": null,
      "visibility": null,
      "width": null
     }
    }
   }
  }
 },
 "nbformat": 4,
 "nbformat_minor": 4
}

